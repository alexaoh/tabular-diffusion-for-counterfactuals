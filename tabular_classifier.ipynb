{
 "cells": [
  {
   "cell_type": "markdown",
   "id": "1d97d27c",
   "metadata": {},
   "source": [
    "# First NN with PyTorch on Tabular Data"
   ]
  },
  {
   "cell_type": "code",
   "execution_count": 6,
   "id": "bb54fca2",
   "metadata": {},
   "outputs": [
    {
     "name": "stdout",
     "output_type": "stream",
     "text": [
      "Using 'cuda' device.\n",
      "The working directory is /home/ajo/gitRepos/master_thesis\n"
     ]
    }
   ],
   "source": [
    "import pandas as pd\n",
    "import numpy as np\n",
    "import matplotlib.pyplot as plt\n",
    "from sklearn import metrics # plot_roc_curve.\n",
    "from sklearn.model_selection import train_test_split # Train/test/validation split of data.\n",
    "import sklearn.preprocessing as preprocessing\n",
    "import patsy # Is not needed anylonger since sklearn did what I wanted.\n",
    "import random \n",
    "\n",
    "# Pytorch imports\n",
    "import torch\n",
    "import torch.nn as nn\n",
    "from torch.utils.data import Dataset, DataLoader # Not sure what \"Dataset\" is for atm.\n",
    "\n",
    "# Configure the device \n",
    "device = torch.device('cuda' if torch.cuda.is_available() else 'cpu')\n",
    "print(f\"Using '{device}' device.\")\n",
    "\n",
    "# Print working directory (for control)\n",
    "import os\n",
    "print(f\"The working directory is {os.getcwd()}\")\n",
    "\n",
    "# Set seeds for reproducibility. \n",
    "seed = 1234\n",
    "torch.manual_seed(seed)\n",
    "torch.cuda.manual_seed(seed)\n",
    "np.random.seed(seed)\n",
    "random.seed(seed)"
   ]
  },
  {
   "cell_type": "markdown",
   "id": "92869f9b",
   "metadata": {},
   "source": [
    "## Load the Adult census data and pre-process a little"
   ]
  },
  {
   "cell_type": "code",
   "execution_count": 11,
   "id": "dd4b8af4",
   "metadata": {},
   "outputs": [
    {
     "name": "stdout",
     "output_type": "stream",
     "text": [
      "(48842, 14)\n",
      "True\n",
      "(45222, 14)\n",
      "Feature 'workclass'' has 7 unique levels\n",
      "Feature 'marital_status'' has 7 unique levels\n",
      "Feature 'occupation'' has 14 unique levels\n",
      "Feature 'relationship'' has 6 unique levels\n",
      "Feature 'race'' has 5 unique levels\n",
      "Feature 'sex'' has 2 unique levels\n",
      "Feature 'native_country'' has 41 unique levels\n",
      "The sum of all levels is 82. This will be the number of cat-columns after one-hot encoding (non-full rank)\n",
      "[7, 7, 14, 6, 5, 2, 41]\n"
     ]
    }
   ],
   "source": [
    "# df1 = pd.read_csv(\"original_data/adult.data\", header = None, na_values = \" ?\")\n",
    "# df2 = pd.read_csv(\"original_data/adult.test\", header = None, na_values = \" ?\")\n",
    "# df1.columns = df2.columns = [\"age\",\"workclass\",\"fnlwgt\",\"education\",\"education_num\",\n",
    "#                       \"marital_status\",\"occupation\",\"relationship\",\"race\",\"sex\",\n",
    "#                       \"capital_gain\",\"capital_loss\",\"hours_per_week\",\"native_country\", \"y\"]\n",
    "# adult_data = pd.concat([df1,df2], ignore_index = True)\n",
    "\n",
    "# categorical_features = [\"workclass\",\"marital_status\",\"occupation\",\"relationship\", \\\n",
    "#                          \"race\",\"sex\",\"native_country\"]\n",
    "# numerical_features = [\"age\",\"fnlwgt\",\"education_num\",\"capital_gain\",\"capital_loss\",\"hours_per_week\"]\n",
    "\n",
    "# # Remove \"education\" column.\n",
    "# adult_data = adult_data.drop(columns = [\"education\"])\n",
    "\n",
    "# # Check if there are any NA values. \n",
    "# print(adult_data.shape)\n",
    "# print(adult_data.isnull().values.any())\n",
    "# adult_data = adult_data.dropna() # Drop the NA values since we know they are few for this data set. \n",
    "# print(adult_data.shape)\n",
    "\n",
    "# # Select covariates and response. \n",
    "# X = adult_data.loc[:, adult_data.columns != \"y\"]\n",
    "# y1 = adult_data.loc[:,\"y\"] # Temporary data frame. \n",
    "# y = y1.copy()\n",
    "\n",
    "# # Change y such that \" <=50K\"=0 and \" >50K\"=1\n",
    "# y.loc[y == \" <=50K\"] = 0\n",
    "# y.loc[y == \" <=50K.\"] = 0\n",
    "# y.loc[y == \" >50K\"] = 1\n",
    "# y.loc[y == \" >50K.\"] = 1\n",
    "\n",
    "\n",
    "# # Get some more info about the levels in the categorical features below. \n",
    "# summer = 0\n",
    "# lens_categorical_features = []\n",
    "# for feat in categorical_features:\n",
    "#     unq = len(X[feat].value_counts().keys().unique())\n",
    "#     print(f\"Feature '{feat}'' has {unq} unique levels\")\n",
    "#     lens_categorical_features.append(unq)\n",
    "# print(f\"The sum of all levels is {sum(lens_categorical_features)}. This will be the number of cat-columns after one-hot encoding (non-full rank)\")\n",
    "# print(lens_categorical_features)\n",
    "# # We save the complete data set as a csv for use in other scripts.\n",
    "# adult_for_saving = X.copy()\n",
    "# adult_for_saving[\"y\"] = y\n",
    "# adult_for_saving.to_csv(\"adult_data_no_NA.csv\") # Save this "
   ]
  },
  {
   "cell_type": "markdown",
   "id": "38a9f85a",
   "metadata": {},
   "source": [
    "## Pre-processing of data\n",
    "\n",
    "This is done in my Data class \"automatically\".\n",
    "\n",
    "* One-hot encoding of categorical features.\n",
    "* Train/test/validation split.\n",
    "* Standardization of numerical features (first in training data, then in testing and validation with the same center and scale."
   ]
  },
  {
   "cell_type": "code",
   "execution_count": 275,
   "id": "d1e89bb2",
   "metadata": {},
   "outputs": [],
   "source": [
    "# # Thus, instead of patsy, we use Sklearn's OneHotEncoder. \n",
    "# # Eventually, we could and chould make a class for data preprocessing.\n",
    "\n",
    "# def fit_encoder(df):\n",
    "#     return preprocessing.OneHotEncoder(handle_unknown = \"error\", sparse = False, drop = None).fit(df)\n",
    "\n",
    "# one_hot_encoder = fit_encoder(X[categorical_features]) # Fit the encoder to the categorical data.\n",
    "# X_onehot = X.copy() # Deep copy the X-data. \n",
    "\n",
    "# encoded_features = one_hot_encoder.get_feature_names(categorical_features) # Get the encoded names. \n",
    "\n",
    "# # Add the new columns to the new dataset (all the levels of the categorical features).\n",
    "# X_onehot[encoded_features] = one_hot_encoder.transform(X_onehot[categorical_features])\n",
    "\n",
    "# # Remove the old columns (before one-hot encoding)\n",
    "# X_onehot = X_onehot.drop(categorical_features, axis = 1) \n",
    "# print(X_onehot.shape) # Shape is correct!"
   ]
  },
  {
   "cell_type": "code",
   "execution_count": 276,
   "id": "0a599df3",
   "metadata": {},
   "outputs": [],
   "source": [
    "# # Train/test/validation split.\n",
    "# X_train, X_test, y_train, y_test = train_test_split(X_onehot, y, test_size=1/3, random_state=42)\n",
    "# X_test, X_valid, y_test, y_valid = train_test_split(X_test, y_test, test_size=1/3, random_state=42)\n",
    "# print(X_train.shape) # 2/3\n",
    "# print(X_test.shape) # 2/9\n",
    "# print(X_valid.shape) # 1/9"
   ]
  },
  {
   "cell_type": "code",
   "execution_count": 277,
   "id": "584f1237",
   "metadata": {},
   "outputs": [],
   "source": [
    "# # Standardization. We standardize according to the training data!\n",
    "\n",
    "# def fit_scaler(df):\n",
    "#     return preprocessing.StandardScaler().fit(df)\n",
    "#     # could also use the quantile transformer!\n",
    "\n",
    "# # Fit the scaler to the training data to acquire correct center and scale.\n",
    "# standard_scaler = fit_scaler(X_train[numerical_features]) \n",
    "\n",
    "# def scale(df,standard_scaler):\n",
    "#     output = df.copy()\n",
    "#     output[numerical_features] = standard_scaler.transform(output[numerical_features])\n",
    "#     return output\n",
    "\n",
    "# def descale(df,standard_scaler):\n",
    "#     output = df.copy()\n",
    "#     output[numerical_features] = standard_scaler.inverse_transform(output[numerical_features])\n",
    "#     return output\n",
    "\n",
    "# # Check if the means and scales of each of the columns are correct. \n",
    "# # Use this to standardize the validation and testing data as well. \n",
    "# print(standard_scaler.mean_)\n",
    "# print(standard_scaler.scale_)\n",
    "\n",
    "# print(X_train[\"age\"].mean(), X_train[\"age\"].std())\n",
    "# print(X_train[\"fnlwgt\"].mean(), X_train[\"fnlwgt\"].std())\n",
    "# print(X_train[\"education_num\"].mean(), X_train[\"education_num\"].std())\n",
    "# # The scales are not completely correct! Not sure why?\n",
    "\n",
    "# # Standardize the two other data sets according to the same centering/scaling as the training data. \n",
    "# X_train2 = scale(X_train, standard_scaler)\n",
    "# X_train3 = descale(X_train2, standard_scaler)\n",
    "# plt.hist(X_train2[\"age\"], label = \"Stand\")\n",
    "# plt.hist(X_train3[\"age\"], label = \"Back\")\n",
    "# plt.hist(X_train[\"age\"], label = \"OG\", alpha = 0.3)\n",
    "# plt.title(\"Hist of Age\")\n",
    "# plt.legend() # Seems to work fine!"
   ]
  },
  {
   "cell_type": "code",
   "execution_count": 278,
   "id": "bebeafb1",
   "metadata": {},
   "outputs": [],
   "source": [
    "# # Standardize the training data.\n",
    "# X_train = scale(X_train, standard_scaler)\n",
    "\n",
    "# # Standardize the testing data.\n",
    "# X_test = scale(X_test, standard_scaler)\n",
    "\n",
    "# # Standardize the validation data.\n",
    "# X_valid = scale(X_valid, standard_scaler)"
   ]
  },
  {
   "cell_type": "code",
   "execution_count": 279,
   "id": "e99c45f0",
   "metadata": {},
   "outputs": [],
   "source": [
    "# X_train[numerical_features].describe()"
   ]
  },
  {
   "cell_type": "code",
   "execution_count": 280,
   "id": "09231339",
   "metadata": {},
   "outputs": [],
   "source": [
    "# descale(X_train, standard_scaler)[numerical_features].describe()"
   ]
  },
  {
   "cell_type": "markdown",
   "id": "f05fe754",
   "metadata": {},
   "source": [
    "## Dataset and Dataloader from Pytorch"
   ]
  },
  {
   "cell_type": "code",
   "execution_count": 281,
   "id": "e86fff22",
   "metadata": {},
   "outputs": [],
   "source": [
    "# Load the adult data. \n",
    "adult_data = pd.read_csv(\"adult_data_no_NA.csv\", index_col = 0)\n",
    "\n",
    "# Load the Data class.\n",
    "#from Data import Data # Fungerer ikke å importere på denne måten tydeligvis!?\n",
    "\n",
    "# Make Data object for Adult data. \n",
    "#Adult = Data(adult_data, categorical_features, numerical_features, valid = True)\n",
    "\n",
    "# Get training, testing and validation data.\n",
    "#X_train, y_train = Adult.get_training_data()\n",
    "#X_test, y_test = Adult.get_test_data()\n",
    "#X_valid, y_valid = Adult.get_validation_data()"
   ]
  },
  {
   "cell_type": "code",
   "execution_count": 282,
   "id": "6269ba46",
   "metadata": {},
   "outputs": [],
   "source": [
    "# Could load the code using the magick command below. \n",
    "# %load Data.py\n",
    "# Classes for data.\n",
    "\n",
    "class Data():\n",
    "    \"\"\"Class for pre-processing data. It automatically encodes, splits and scales the data. \n",
    "    \n",
    "    Contains methods for standardization, encoding and train/test/validation splitting.\n",
    "    \n",
    "    Parameters\n",
    "    ----------\n",
    "    data : dataframe\n",
    "        Pandas df with loaded data. \n",
    "    cat_features : list of strings.\n",
    "        List of categorical features. \n",
    "    num_features : list of string. \n",
    "        List of numerical features. \n",
    "    valid : Boolean \n",
    "        True if validation data should be made, False if not. \n",
    "        \n",
    "    Methods \n",
    "    -------\n",
    "    get_training_data :\n",
    "        Returns a tuple with training data (X,y).\n",
    "    get_test_data :\n",
    "        Returns a tuple with test data (X,y).   \n",
    "    get_validation_data :\n",
    "        Returns a tuple with validation data (X,y) (if applicable).\n",
    "    train_test_valid_split : \n",
    "        Returns a tuple with (X_train, y_train, X_test, y_test) or \n",
    "        (X_train, y_train, X_test, y_test, X_valid, y_valid).\n",
    "    scale : \n",
    "        Scale the numerical features according to X_train.\n",
    "    descale : \n",
    "        Descale the numerical features according to X_train.\n",
    "    fit_scaler :\n",
    "        Fit sklearn scaler to X_train.\n",
    "    encode :\n",
    "        Encode the categorical features according to X_train.\n",
    "    decode :\n",
    "        Decode the categorical features according to X_train.\n",
    "    fit_encoder :\n",
    "        Fit sklearn encoder to X_train.\n",
    "        \n",
    "    \"\"\"\n",
    "    def __init__(self, data, cat_features, num_features, valid = False):\n",
    "        # The transformations are then done here. \n",
    "        self._data = data\n",
    "        self.categorical_features = cat_features\n",
    "        self.numerical_features = num_features\n",
    "        self.valid = valid\n",
    "        \n",
    "        # Assume output always is called 'y'.\n",
    "        self._X = data.loc[:, data.columns != \"y\"]\n",
    "        self._y = data.loc[:,\"y\"] \n",
    "        \n",
    "        # Encode the categorical features. \n",
    "        self.encoder = self.fit_encoder() # Fit the encoder to the categorical data.\n",
    "        self.X_encoded = self.encode()\n",
    "        \n",
    "        # Split into train/test/valid.\n",
    "        if self.valid:\n",
    "            (self.X_train, self.y_train, self.X_test, self.y_test, \\\n",
    "                self.X_valid, self.y_valid) = self.train_test_valid_split(self.X_encoded, self._y)\n",
    "        else:\n",
    "            (self.X_train, self.y_train, self.X_test, self.y_test) = self.train_test_valid_split(self.X_encoded, self._y)\n",
    "        \n",
    "        \n",
    "        # Scale the numerical features. \n",
    "        self.scaler = self.fit_scaler()\n",
    "        self.X_train = self.scale(self.X_train) # Scale the training data.\n",
    "        self.X_test = self.scale(self.X_test) # Scale the test data.\n",
    "        if self.valid:\n",
    "            self.X_valid = self.scale(self.X_valid) # Scale the validation data. \n",
    "        \n",
    "    \n",
    "    def get_training_data(self):\n",
    "        \"\"\"Returns training data (X_train, y_train).\"\"\"\n",
    "        return self.X_train, self.y_train\n",
    "    \n",
    "    def get_test_data(self):\n",
    "        \"\"\"Returns test data (X_test, y_test).\"\"\"\n",
    "        return self.X_test, self.y_test\n",
    "    \n",
    "    def get_validation_data(self):\n",
    "        \"\"\"Returns validation data (X_valid, y_valid) if applicable.\"\"\"\n",
    "        if self.valid:\n",
    "            return self.X_valid, self.y_valid\n",
    "        else: \n",
    "            raise ValueError(\"You did not instantiate this object to contain validation data.\")\n",
    "    \n",
    "    def train_test_valid_split(self, X, y):\n",
    "        \"\"\"Split data into training/testing/validation, where validation is optional at instantiation.\"\"\"\n",
    "        X_train, X_test, y_train, y_test = train_test_split(X, y, test_size=1/3, random_state=42)\n",
    "        if self.valid:\n",
    "            X_test, X_valid, y_test, y_valid = train_test_split( \\\n",
    "                                        X_test, y_test, test_size=1/3, random_state=42)\n",
    "            return (X_train, y_train, X_test, y_test, X_valid, y_valid)\n",
    "        return (X_train, y_train, X_test, y_test)\n",
    "            \n",
    "    def scale(self, df):\n",
    "        \"\"\"Scale the numerical features according to the TRAINING data.\"\"\"\n",
    "        output = df.copy() # Deep copy the given df. \n",
    "        output[self.numerical_features] = self.scaler.transform(output[self.numerical_features])\n",
    "        return output\n",
    "        \n",
    "    def descale(self, df):\n",
    "        \"\"\"Descale the numerical features according to the TRAINING data.\"\"\"\n",
    "        output = df.copy()\n",
    "        output[self.numerical_features] = self.scaler.inverse_transform(output[self.numerical_features])\n",
    "        return output\n",
    "\n",
    "    def fit_scaler(self):\n",
    "        \"\"\"Fit the scaler to the numerical TRAINING data. Only supports OneHotEncoding.\"\"\"\n",
    "        return preprocessing.StandardScaler().fit(self.X_train[self.numerical_features])\n",
    "    \n",
    "    def encode(self):\n",
    "        \"\"\"Encode the categorical data. Only supports OneHotEncoding.\"\"\"\n",
    "        output = self._X.copy() # Deep copy the X-data.\n",
    "        encoded_features = self.encoder.get_feature_names(self.categorical_features) # Get the encoded names. \n",
    "        \n",
    "        # Add the new columns to the new dataset (all the levels of the categorical features).\n",
    "        output[encoded_features] = self.encoder.transform(output[self.categorical_features])\n",
    "\n",
    "        # Remove the old columns (before one-hot encoding)\n",
    "        output = output.drop(self.categorical_features, axis = 1) \n",
    "        return output\n",
    "    \n",
    "    def decode(self, df):\n",
    "        \"\"\"Decode the categorical data. Only support OneHotEncoding.\"\"\"\n",
    "        output = df.copy()\n",
    "        encoded_features = self.encoder.get_feature_names(self.categorical_features) # Get the encoded names. \n",
    "        \n",
    "        if len(encoded_features) == 0:\n",
    "            return output # Does not work when there are not categorical features in df.\n",
    "        \n",
    "        output[self.categorical_features] = self.encoder.inverse_transform(output[encoded_features])\n",
    "        output = output.drop(encoded_features, axis=1)\n",
    "        return output\n",
    "    \n",
    "    def fit_encoder(self):\n",
    "        \"\"\"Fit the encoder to the categorical data. Only supports OneHotEncoding.\"\"\"\n",
    "        return preprocessing.OneHotEncoder(handle_unknown = \"error\", \\\n",
    "          sparse = False, drop = None).fit(self._X[self.categorical_features])\n",
    "    \n"
   ]
  },
  {
   "cell_type": "code",
   "execution_count": 283,
   "id": "5550a26d",
   "metadata": {},
   "outputs": [],
   "source": [
    "# Could also run the file like this directly (into memory).\n",
    "%run Data.py"
   ]
  },
  {
   "cell_type": "code",
   "execution_count": 284,
   "id": "da461519",
   "metadata": {},
   "outputs": [],
   "source": [
    "Adult = Data(adult_data, categorical_features, numerical_features, valid = True)\n",
    "X_train, y_train = Adult.get_training_data()\n",
    "X_test, y_test = Adult.get_test_data()\n",
    "X_valid, y_valid = Adult.get_validation_data()"
   ]
  },
  {
   "cell_type": "code",
   "execution_count": 285,
   "id": "6fb72826",
   "metadata": {},
   "outputs": [
    {
     "name": "stdout",
     "output_type": "stream",
     "text": [
      "(tensor([-1.4003, -0.2451, -0.0485, -0.1451, -0.2180, -1.9924,  0.0000,  0.0000,\n",
      "         1.0000,  0.0000,  0.0000,  0.0000,  0.0000,  0.0000,  0.0000,  0.0000,\n",
      "         0.0000,  1.0000,  0.0000,  0.0000,  0.0000,  0.0000,  0.0000,  0.0000,\n",
      "         0.0000,  0.0000,  0.0000,  0.0000,  0.0000,  0.0000,  0.0000,  0.0000,\n",
      "         0.0000,  1.0000,  0.0000,  0.0000,  0.0000,  1.0000,  0.0000,  0.0000,\n",
      "         0.0000,  0.0000,  0.0000,  0.0000,  1.0000,  1.0000,  0.0000,  0.0000,\n",
      "         0.0000,  0.0000,  0.0000,  0.0000,  0.0000,  0.0000,  0.0000,  0.0000,\n",
      "         0.0000,  0.0000,  0.0000,  0.0000,  0.0000,  0.0000,  0.0000,  0.0000,\n",
      "         0.0000,  0.0000,  0.0000,  0.0000,  0.0000,  0.0000,  0.0000,  0.0000,\n",
      "         0.0000,  0.0000,  0.0000,  0.0000,  0.0000,  0.0000,  0.0000,  0.0000,\n",
      "         0.0000,  0.0000,  0.0000,  0.0000,  0.0000,  1.0000,  0.0000,  0.0000]), tensor([0.]))\n",
      "<class 'torch.Tensor'> <class 'torch.Tensor'>\n"
     ]
    }
   ],
   "source": [
    "# This can be done as below (for example).\n",
    "\n",
    "class CustomDataset(Dataset):\n",
    "    \n",
    "    def __init__(self, X, y, transform = None, valid = True):\n",
    "        # Could load the Adult data directly in here. Or could take X, y from Adult data loaded earlier. \n",
    "        self.X = X.values.astype(np.float32) # Return a Numpy array with the dataframe contents. \n",
    "        self.y = np.reshape(y.values,(len(y.values),1)).astype(np.float32) # Return a Numpy array with the dataframe contents. \n",
    "        # Needed to reshape a little above, check that this is correct later!\n",
    "        \n",
    "        # use the methods defined below to split the data, scale and one-hot encode directly\n",
    "        # in the constructor (very smooth!)\n",
    "        \n",
    "        self.n_samples = self.X.shape[0]\n",
    "        self.transform = transform\n",
    "       \n",
    "    def __getitem__(self, index):\n",
    "        sample = self.X[index], self.y[index]\n",
    "        #return sample\n",
    "        if self.transform:\n",
    "            sample = self.transform(sample)\n",
    "        return sample\n",
    "   \n",
    "    def __len__(self):\n",
    "        return self.n_samples\n",
    "    \n",
    "    # Could add a lot more of the preprocessing of the data to this class eventually!\n",
    "    \n",
    "    def train_test_valid_split(self, valid=True):\n",
    "        #split the data into train/test and validation (optional)\n",
    "        pass\n",
    "            \n",
    "    \n",
    "    def scale(self):\n",
    "        #scale the numerical data according to the training data. \n",
    "        pass\n",
    "    \n",
    "    def descale(self):\n",
    "        #descale the numerical data according to the training data. \n",
    "        pass\n",
    "\n",
    "    def fit_scaler(self):\n",
    "        #fit the numerical data scaler according to the training data. \n",
    "        pass\n",
    "    \n",
    "    def encode(self):\n",
    "        #encode the categorical data (one-hot for now)\n",
    "        pass\n",
    "    \n",
    "    def decode(self):\n",
    "        #decode the categorical data (from one-hot)\n",
    "        pass\n",
    "    \n",
    "    def fit_encoder(self):\n",
    "        #fit the encoder to the categorical data features. \n",
    "        pass\n",
    "    \n",
    "class ToTensor: # Transform to Pytorch tensors. \n",
    "    def __call__(self, sample):\n",
    "        inputs, labels = sample\n",
    "        #print(labels)\n",
    "        return torch.from_numpy(inputs), torch.from_numpy(labels)\n",
    "\n",
    "\n",
    "# select rows from the dataset\n",
    "train_data = CustomDataset(X_train, y_train, transform = ToTensor()) # Here we put the Adult data loaded in earlier cells into the Dataset type. \n",
    "\n",
    "# Check if it works as expected.\n",
    "nex = train_data[0]\n",
    "print(nex)\n",
    "print(type(nex[0]), type(nex[1]))"
   ]
  },
  {
   "cell_type": "markdown",
   "id": "8195a1bb",
   "metadata": {},
   "source": [
    "## Build the Simple Classifier\n",
    "\n",
    "The classifier will have three dense layers with 18, 9 and 3 units respectively. In addition, it will use ReLU activations in each of the layers and have a sigmoid output activation, since we want to do binary classification of the output."
   ]
  },
  {
   "cell_type": "code",
   "execution_count": 286,
   "id": "9f719329",
   "metadata": {},
   "outputs": [
    {
     "name": "stdout",
     "output_type": "stream",
     "text": [
      "NeuralNet(\n",
      "  (l1): Linear(in_features=88, out_features=18, bias=True)\n",
      "  (l2): Linear(in_features=18, out_features=9, bias=True)\n",
      "  (l3): Linear(in_features=9, out_features=3, bias=True)\n",
      "  (output): Linear(in_features=3, out_features=1, bias=True)\n",
      "  (relu): ReLU()\n",
      "  (sigmoid): Sigmoid()\n",
      ")\n"
     ]
    }
   ],
   "source": [
    "# Set the hyperparameters.\n",
    "input_size = X_test.shape[1] # Number of columns in the data.\n",
    "\n",
    "# Could have used Pytorch sequential for this.\n",
    "class NeuralNet(nn.Module):\n",
    "    def __init__(self, input_size):\n",
    "        super(NeuralNet, self).__init__()\n",
    "        self.input_size = input_size\n",
    "        \n",
    "        # Layers. \n",
    "        self.l1 = nn.Linear(input_size, 18)\n",
    "        self.l2 = nn.Linear(18,9)\n",
    "        self.l3 = nn.Linear(9,3)\n",
    "        self.output = nn.Linear(3,1)\n",
    "        \n",
    "        # Activation functions.\n",
    "        self.relu = nn.ReLU()\n",
    "        self.sigmoid = nn.Sigmoid()\n",
    "    \n",
    "    def forward(self, x):\n",
    "        out = self.l1(x)\n",
    "        out = self.relu(out)\n",
    "        out = self.l2(out)\n",
    "        out = self.relu(out)\n",
    "        out = self.l3(out)\n",
    "        out = self.relu(out)\n",
    "        out = self.output(out)\n",
    "        out = self.sigmoid(out) \n",
    "        return out\n",
    "\n",
    "model = NeuralNet(input_size).to(device) # Load the neural net onto the gpu.\n",
    "print(model) # Have a look at the neural network."
   ]
  },
  {
   "cell_type": "markdown",
   "id": "b6beeee0",
   "metadata": {},
   "source": [
    "## Train the model."
   ]
  },
  {
   "cell_type": "code",
   "execution_count": 287,
   "id": "6c26aafb",
   "metadata": {},
   "outputs": [
    {
     "name": "stdout",
     "output_type": "stream",
     "text": [
      "Epoch [1/30], Step [10/30], Loss: 0.6422, Acc: 0.7529\n",
      "Epoch [1/30], Step [20/30], Loss: 0.5602, Acc: 0.7891\n",
      "Epoch [1/30], Step [30/30], Loss: 0.3935, Acc: 0.8119\n",
      "Epoch [2/30], Step [10/30], Loss: 0.3640, Acc: 0.8281\n",
      "Epoch [2/30], Step [20/30], Loss: 0.3251, Acc: 0.8564\n",
      "Epoch [2/30], Step [30/30], Loss: 0.3370, Acc: 0.8341\n",
      "Epoch [3/30], Step [10/30], Loss: 0.3410, Acc: 0.8418\n",
      "Epoch [3/30], Step [20/30], Loss: 0.3206, Acc: 0.8486\n",
      "Epoch [3/30], Step [30/30], Loss: 0.3046, Acc: 0.8363\n",
      "Epoch [4/30], Step [10/30], Loss: 0.2878, Acc: 0.8711\n",
      "Epoch [4/30], Step [20/30], Loss: 0.2954, Acc: 0.8555\n",
      "Epoch [4/30], Step [30/30], Loss: 0.3657, Acc: 0.8097\n",
      "Epoch [5/30], Step [10/30], Loss: 0.3474, Acc: 0.8447\n",
      "Epoch [5/30], Step [20/30], Loss: 0.3272, Acc: 0.8359\n",
      "Epoch [5/30], Step [30/30], Loss: 0.3412, Acc: 0.8540\n",
      "Epoch [6/30], Step [10/30], Loss: 0.3139, Acc: 0.8438\n",
      "Epoch [6/30], Step [20/30], Loss: 0.3253, Acc: 0.8418\n",
      "Epoch [6/30], Step [30/30], Loss: 0.3148, Acc: 0.8562\n",
      "Epoch [7/30], Step [10/30], Loss: 0.3120, Acc: 0.8467\n",
      "Epoch [7/30], Step [20/30], Loss: 0.3216, Acc: 0.8457\n",
      "Epoch [7/30], Step [30/30], Loss: 0.3403, Acc: 0.8518\n",
      "Epoch [8/30], Step [10/30], Loss: 0.2865, Acc: 0.8643\n",
      "Epoch [8/30], Step [20/30], Loss: 0.3074, Acc: 0.8467\n",
      "Epoch [8/30], Step [30/30], Loss: 0.3137, Acc: 0.8606\n",
      "Epoch [9/30], Step [10/30], Loss: 0.3036, Acc: 0.8594\n",
      "Epoch [9/30], Step [20/30], Loss: 0.3208, Acc: 0.8506\n",
      "Epoch [9/30], Step [30/30], Loss: 0.3155, Acc: 0.8518\n",
      "Epoch [10/30], Step [10/30], Loss: 0.3075, Acc: 0.8604\n",
      "Epoch [10/30], Step [20/30], Loss: 0.3010, Acc: 0.8672\n",
      "Epoch [10/30], Step [30/30], Loss: 0.3284, Acc: 0.8496\n",
      "Epoch [11/30], Step [10/30], Loss: 0.3023, Acc: 0.8467\n",
      "Epoch [11/30], Step [20/30], Loss: 0.3153, Acc: 0.8594\n",
      "Epoch [11/30], Step [30/30], Loss: 0.3599, Acc: 0.8186\n",
      "Epoch [12/30], Step [10/30], Loss: 0.2846, Acc: 0.8623\n",
      "Epoch [12/30], Step [20/30], Loss: 0.2945, Acc: 0.8584\n",
      "Epoch [12/30], Step [30/30], Loss: 0.2895, Acc: 0.8695\n",
      "Epoch [13/30], Step [10/30], Loss: 0.3156, Acc: 0.8535\n",
      "Epoch [13/30], Step [20/30], Loss: 0.2932, Acc: 0.8564\n",
      "Epoch [13/30], Step [30/30], Loss: 0.3443, Acc: 0.8186\n",
      "Epoch [14/30], Step [10/30], Loss: 0.3018, Acc: 0.8584\n",
      "Epoch [14/30], Step [20/30], Loss: 0.2766, Acc: 0.8672\n",
      "Epoch [14/30], Step [30/30], Loss: 0.2813, Acc: 0.8783\n",
      "Epoch [15/30], Step [10/30], Loss: 0.3336, Acc: 0.8428\n",
      "Epoch [15/30], Step [20/30], Loss: 0.3016, Acc: 0.8506\n",
      "Epoch [15/30], Step [30/30], Loss: 0.3053, Acc: 0.8429\n",
      "Epoch [16/30], Step [10/30], Loss: 0.3173, Acc: 0.8496\n",
      "Epoch [16/30], Step [20/30], Loss: 0.3421, Acc: 0.8486\n",
      "Epoch [16/30], Step [30/30], Loss: 0.2766, Acc: 0.8717\n",
      "Epoch [17/30], Step [10/30], Loss: 0.3242, Acc: 0.8506\n",
      "Epoch [17/30], Step [20/30], Loss: 0.2765, Acc: 0.8662\n",
      "Epoch [17/30], Step [30/30], Loss: 0.3030, Acc: 0.8562\n",
      "Epoch [18/30], Step [10/30], Loss: 0.2985, Acc: 0.8564\n",
      "Epoch [18/30], Step [20/30], Loss: 0.2838, Acc: 0.8672\n",
      "Epoch [18/30], Step [30/30], Loss: 0.3204, Acc: 0.8518\n",
      "Epoch [19/30], Step [10/30], Loss: 0.3148, Acc: 0.8555\n",
      "Epoch [19/30], Step [20/30], Loss: 0.2875, Acc: 0.8691\n",
      "Epoch [19/30], Step [30/30], Loss: 0.3036, Acc: 0.8429\n",
      "Epoch [20/30], Step [10/30], Loss: 0.2816, Acc: 0.8623\n",
      "Epoch [20/30], Step [20/30], Loss: 0.3173, Acc: 0.8662\n",
      "Epoch [20/30], Step [30/30], Loss: 0.3364, Acc: 0.8584\n",
      "Epoch [21/30], Step [10/30], Loss: 0.2991, Acc: 0.8506\n",
      "Epoch [21/30], Step [20/30], Loss: 0.3118, Acc: 0.8438\n",
      "Epoch [21/30], Step [30/30], Loss: 0.3567, Acc: 0.8385\n",
      "Epoch [22/30], Step [10/30], Loss: 0.3166, Acc: 0.8604\n",
      "Epoch [22/30], Step [20/30], Loss: 0.3137, Acc: 0.8613\n",
      "Epoch [22/30], Step [30/30], Loss: 0.3261, Acc: 0.8429\n",
      "Epoch [23/30], Step [10/30], Loss: 0.3203, Acc: 0.8379\n",
      "Epoch [23/30], Step [20/30], Loss: 0.2899, Acc: 0.8477\n",
      "Epoch [23/30], Step [30/30], Loss: 0.3079, Acc: 0.8451\n",
      "Epoch [24/30], Step [10/30], Loss: 0.2886, Acc: 0.8604\n",
      "Epoch [24/30], Step [20/30], Loss: 0.3138, Acc: 0.8564\n",
      "Epoch [24/30], Step [30/30], Loss: 0.3230, Acc: 0.8296\n",
      "Epoch [25/30], Step [10/30], Loss: 0.2925, Acc: 0.8730\n",
      "Epoch [25/30], Step [20/30], Loss: 0.3042, Acc: 0.8555\n",
      "Epoch [25/30], Step [30/30], Loss: 0.3429, Acc: 0.8164\n",
      "Epoch [26/30], Step [10/30], Loss: 0.3061, Acc: 0.8525\n",
      "Epoch [26/30], Step [20/30], Loss: 0.3154, Acc: 0.8477\n",
      "Epoch [26/30], Step [30/30], Loss: 0.3332, Acc: 0.8385\n",
      "Epoch [27/30], Step [10/30], Loss: 0.2861, Acc: 0.8623\n",
      "Epoch [27/30], Step [20/30], Loss: 0.3181, Acc: 0.8389\n",
      "Epoch [27/30], Step [30/30], Loss: 0.3142, Acc: 0.8673\n",
      "Epoch [28/30], Step [10/30], Loss: 0.3120, Acc: 0.8486\n",
      "Epoch [28/30], Step [20/30], Loss: 0.2752, Acc: 0.8711\n",
      "Epoch [28/30], Step [30/30], Loss: 0.2939, Acc: 0.8473\n",
      "Epoch [29/30], Step [10/30], Loss: 0.2886, Acc: 0.8574\n",
      "Epoch [29/30], Step [20/30], Loss: 0.3073, Acc: 0.8350\n",
      "Epoch [29/30], Step [30/30], Loss: 0.3370, Acc: 0.8296\n",
      "Epoch [30/30], Step [10/30], Loss: 0.3102, Acc: 0.8467\n",
      "Epoch [30/30], Step [20/30], Loss: 0.3103, Acc: 0.8613\n",
      "Epoch [30/30], Step [30/30], Loss: 0.2598, Acc: 0.8783\n"
     ]
    }
   ],
   "source": [
    "# Some hyperparameters for training. \n",
    "num_epochs = 30\n",
    "batch_size = 1024\n",
    "learning_rate = 0.01\n",
    "\n",
    "criterion = nn.BCELoss() # Loss function.\n",
    "optimizer = torch.optim.Adam(model.parameters(), lr=learning_rate)  \n",
    "\n",
    "# Data for the training. \n",
    "train_loader = DataLoader(train_data, batch_size = batch_size, shuffle = True, num_workers = 2)\n",
    "\n",
    "# Train the model.\n",
    "n_total_steps = len(train_loader) # Total length of training data. \n",
    "train_losses = []\n",
    "train_accuracies = []\n",
    "val_losses = []\n",
    "val_accuracies = []\n",
    "\n",
    "# Data for validation.\n",
    "val_dat = torch.from_numpy(X_valid.values.astype(np.float32)).to(device)\n",
    "val_labs = torch.from_numpy(y_valid.values.astype(np.float32)).to(device)\n",
    "val_labs = val_labs.view(val_labs.shape[0],1)\n",
    "# The training takes a very long time when we do validation on the entire validation data set like here!\n",
    "# Should do it differently! Do later. \n",
    "\n",
    "for epoch in range(num_epochs):\n",
    "    for i, (inputs, labels) in enumerate(train_loader):  \n",
    "        # Load the data on to the gpu.\n",
    "        inputs = inputs.to(device)\n",
    "        y_acc_metric = labels.reshape(-1).numpy() # Used to measure accuracy as a metric below. \n",
    "        labels = labels.view(labels.shape[0],1).to(device) \n",
    "        \n",
    "        # Forward pass.\n",
    "        outputs = model(inputs)\n",
    "        loss = criterion(outputs, labels)\n",
    "        \n",
    "        # Accuracy metric reporting. \n",
    "        accuracy = (outputs.reshape(-1).cpu().detach().numpy().round() == y_acc_metric).mean()\n",
    "        \n",
    "        # We also want to report some validation metrics (on validation data).\n",
    "        #val_preds = model(val_dat)\n",
    "        #val_loss = criterion(val_preds, val_labs)\n",
    "        #val_accuracy = (val_preds.reshape(-1).cpu().detach().numpy().round() \\\n",
    "        #                == np.reshape(y_valid.values,(len(y_valid.values),1))).mean()\n",
    "        \n",
    "        # Backward and optimize.\n",
    "        optimizer.zero_grad()\n",
    "        loss.backward()\n",
    "        optimizer.step()\n",
    "        \n",
    "        \n",
    "        if (i+1) % 10 == 0:\n",
    "            train_losses.append(loss.item())\n",
    "            train_accuracies.append(accuracy)\n",
    "            #val_losses.append(val_loss)\n",
    "            #val_accuracies.append(val_accuracy)\n",
    "            #print (f'Epoch [{epoch+1}/{num_epochs}], Step [{i+1}/{n_total_steps}], Loss: {loss.item():.4f}, ValLoss: {val_loss.item():.4f}, Acc: {accuracy:.4f}, ValAcc: {val_accuracy:.4f}')\n",
    "            print (f'Epoch [{epoch+1}/{num_epochs}], Step [{i+1}/{n_total_steps}], Loss: {loss.item():.4f}, Acc: {accuracy:.4f}')"
   ]
  },
  {
   "cell_type": "code",
   "execution_count": 288,
   "id": "5209f8ca",
   "metadata": {},
   "outputs": [
    {
     "data": {
      "image/png": "[encoded data removed]",
      "text/plain": [
       "<Figure size 432x288 with 1 Axes>"
      ]
     },
     "metadata": {
      "needs_background": "light"
     },
     "output_type": "display_data"
    },
    {
     "data": {
      "image/png": "[encoded data removed]",
      "text/plain": [
       "<Figure size 432x288 with 1 Axes>"
      ]
     },
     "metadata": {
      "needs_background": "light"
     },
     "output_type": "display_data"
    }
   ],
   "source": [
    "plt.plot(train_losses)\n",
    "plt.title(\"Training Loss per Epoch\")\n",
    "plt.xlabel(\"Epoch\")\n",
    "plt.ylabel(\"Loss\")\n",
    "plt.show()\n",
    "\n",
    "plt.plot(train_accuracies)\n",
    "plt.title(\"Training Accuracy per Epoch\")\n",
    "plt.xlabel(\"Epoch\")\n",
    "plt.ylabel(\"Accuracy\")\n",
    "plt.show()"
   ]
  },
  {
   "cell_type": "code",
   "execution_count": 289,
   "id": "de289048",
   "metadata": {},
   "outputs": [
    {
     "name": "stdout",
     "output_type": "stream",
     "text": [
      "Step [1/10], Acc: 0.8584\n",
      "Step [2/10], Acc: 0.8613\n",
      "Step [3/10], Acc: 0.8643\n",
      "Step [4/10], Acc: 0.8633\n",
      "Step [5/10], Acc: 0.8457\n",
      "Step [6/10], Acc: 0.8516\n",
      "Step [7/10], Acc: 0.8525\n",
      "Step [8/10], Acc: 0.8574\n",
      "Step [9/10], Acc: 0.8369\n",
      "Step [10/10], Acc: 0.8391\n",
      "Average test accuracy over all batches: 0.8531\n"
     ]
    }
   ],
   "source": [
    "# Test the model\n",
    "# In test phase, we don't need to compute gradients (for memory efficiency)\n",
    "test_data = CustomDataset(X_test, y_test, transform = ToTensor())\n",
    "test_loader = DataLoader(test_data, batch_size = batch_size, shuffle = False, num_workers = 2)\n",
    "\n",
    "test_steps = len(test_loader)\n",
    "test_accuracies = []\n",
    "with torch.no_grad():\n",
    "    n_correct = 0\n",
    "    n_samples = 0\n",
    "    for i, (inputs, labels) in enumerate(test_loader):\n",
    "        # Load the data on to the gpu.\n",
    "        inputs = inputs.to(device)\n",
    "        y_acc_metric = labels.reshape(-1).numpy() # Used to measure accuracy as a metric below. \n",
    "        \n",
    "        # Forward pass.\n",
    "        outputs = model(inputs)\n",
    "        #print(outputs)\n",
    "        \n",
    "        # Accuracy metric reporting. \n",
    "        accuracy = (outputs.reshape(-1).cpu().detach().numpy().round() == y_acc_metric).mean()\n",
    "        \n",
    "    \n",
    "        test_accuracies.append(accuracy)\n",
    "        print (f'Step [{i+1}/{test_steps}], Acc: {accuracy:.4f}')\n",
    "        \n",
    "print(f\"Average test accuracy over all batches: {sum(test_accuracies)/len(test_accuracies):.4f}\")"
   ]
  },
  {
   "cell_type": "code",
   "execution_count": 290,
   "id": "f5a94cf0",
   "metadata": {},
   "outputs": [
    {
     "name": "stdout",
     "output_type": "stream",
     "text": [
      "Unique predicted values: [2.1198730e-05 2.5203130e-05 2.7043267e-05 ... 9.9999976e-01 9.9999988e-01\n",
      " 1.0000000e+00]\n"
     ]
    },
    {
     "data": {
      "image/png": "[encoded data removed]",
      "text/plain": [
       "<Figure size 432x288 with 1 Axes>"
      ]
     },
     "metadata": {
      "needs_background": "light"
     },
     "output_type": "display_data"
    }
   ],
   "source": [
    "# Test on entire test data set at once.\n",
    "with torch.no_grad():\n",
    "    test_dat = torch.from_numpy(X_test.values.astype(np.float32)).to(device)\n",
    "    test_labs = torch.from_numpy(y_test.values.astype(np.float32))\n",
    "    test_labs = test_labs.view(test_labs.shape[0],1)\n",
    "    \n",
    "    predicted_probs = model(test_dat).cpu().numpy()\n",
    "    \n",
    "    plt.hist(predicted_probs.flatten())\n",
    "    plt.xlim(0,1)\n",
    "    print(f\"Unique predicted values: {np.unique(predicted_probs.flatten())}\")"
   ]
  },
  {
   "cell_type": "code",
   "execution_count": 291,
   "id": "c2bdb046",
   "metadata": {},
   "outputs": [
    {
     "data": {
      "image/png": "[encoded data removed]",
      "text/plain": [
       "<Figure size 432x288 with 2 Axes>"
      ]
     },
     "metadata": {
      "needs_background": "light"
     },
     "output_type": "display_data"
    },
    {
     "name": "stdout",
     "output_type": "stream",
     "text": [
      "Some more classifaction statistics:\n",
      "              precision    recall  f1-score   support\n",
      "\n",
      "           0       0.89      0.92      0.90      7552\n",
      "           1       0.73      0.64      0.69      2497\n",
      "\n",
      "    accuracy                           0.85     10049\n",
      "   macro avg       0.81      0.78      0.80     10049\n",
      "weighted avg       0.85      0.85      0.85     10049\n",
      "\n"
     ]
    }
   ],
   "source": [
    "# Confusion matrix.\n",
    "labs = list(y_test.values)\n",
    "preds = predicted_probs.flatten()\n",
    "predicted_classes = np.where(preds > 0.5, 1, 0)\n",
    "cm = metrics.confusion_matrix(labs, list(predicted_classes), labels = [0,1])\n",
    "conf_mat = metrics.ConfusionMatrixDisplay(confusion_matrix=cm)\n",
    "conf_mat.plot()\n",
    "plt.show()\n",
    "\n",
    "print(\"Some more classifaction statistics:\")\n",
    "print(metrics.classification_report(labs, predicted_classes, labels = [0,1]))"
   ]
  },
  {
   "cell_type": "code",
   "execution_count": 292,
   "id": "73d0fb2d",
   "metadata": {},
   "outputs": [
    {
     "data": {
      "image/png": "[encoded data removed]",
      "text/plain": [
       "<Figure size 432x288 with 1 Axes>"
      ]
     },
     "metadata": {
      "needs_background": "light"
     },
     "output_type": "display_data"
    }
   ],
   "source": [
    "# Make roc and auc below. \n",
    "fpr, tpr, thresholds = metrics.roc_curve(labs, predicted_probs.flatten())\n",
    "roc_auc = metrics.auc(fpr, tpr)\n",
    "display = metrics.RocCurveDisplay(fpr=fpr, tpr=tpr, roc_auc=roc_auc,\n",
    "                                   estimator_name='Simple Neural Net Classifier')\n",
    "display.plot()\n",
    "plt.show()"
   ]
  },
  {
   "cell_type": "markdown",
   "id": "c3d5b3f4",
   "metadata": {},
   "source": [
    "## Now we select 100 \"negatively\" predicted individuals at random, to explain later."
   ]
  },
  {
   "cell_type": "code",
   "execution_count": 293,
   "id": "94ee54a3",
   "metadata": {},
   "outputs": [],
   "source": [
    "K = 100\n",
    "\n",
    "# We add the predicted labels to the testing dataframe. \n",
    "test_data_full = X_test.copy()\n",
    "test_data_full[\"y_true\"] = y_test # add true outputs. \n",
    "test_data_full[\"y_pred\"] = predicted_classes # add predicted outputs. \n",
    "\n",
    "# Dataframe of 100 individuals negatively predicted by the classifier. \n",
    "H = test_data_full[test_data_full[\"y_pred\"] == 0].sample(n = K, axis = 0)\n",
    "H.to_csv(\"H_adult.csv\") # Save this "
   ]
  },
  {
   "cell_type": "code",
   "execution_count": null,
   "id": "beb3c745",
   "metadata": {},
   "outputs": [],
   "source": []
  },
  {
   "cell_type": "code",
   "execution_count": null,
   "id": "3e6dad84",
   "metadata": {},
   "outputs": [],
   "source": []
  },
  {
   "cell_type": "code",
   "execution_count": 294,
   "id": "60c23879",
   "metadata": {},
   "outputs": [],
   "source": [
    "# In case I want to save the trained model.\n",
    "PATH = './mymodel.pth'\n",
    "#torch.save(model.state_dict(), PATH)"
   ]
  },
  {
   "cell_type": "code",
   "execution_count": 295,
   "id": "89ee893e",
   "metadata": {},
   "outputs": [],
   "source": [
    "# Load the weights and biases (with the same structure as the model used here).\n",
    "# The model class needs to be saved somewhere, because pickle saves a path to the file containing the class, which is used during load time. \n",
    "#model = NeuralNet(input_size).to(device)\n",
    "#model.load_state_dict(torch.load(PATH))"
   ]
  },
  {
   "cell_type": "markdown",
   "id": "7d296e75",
   "metadata": {},
   "source": [
    "# A few simple beginning tutorials are given below \n",
    "\n",
    "* [this](https://www.datacamp.com/tutorial/pytorch-tutorial-building-a-simple-neural-network-from-scratch)\n",
    "* [this](https://medium.com/analytics-vidhya/a-simple-neural-network-classifier-using-pytorch-from-scratch-7ebb477422d2)\n",
    "* [this](https://medium.com/analytics-vidhya/pytorch-for-deep-learning-binary-classification-logistic-regression-382abd97fb43).\n"
   ]
  }
 ],
 "metadata": {
  "kernelspec": {
   "display_name": "Python 3 (ipykernel)",
   "language": "python",
   "name": "python3"
  },
  "language_info": {
   "codemirror_mode": {
    "name": "ipython",
    "version": 3
   },
   "file_extension": ".py",
   "mimetype": "text/x-python",
   "name": "python",
   "nbconvert_exporter": "python",
   "pygments_lexer": "ipython3",
   "version": "3.8.15 (default, Nov 24 2022, 15:19:38) \n[GCC 11.2.0]"
  },
  "vscode": {
   "interpreter": {
    "hash": "9f39fe27332ffeeeb6ffe75af7dffd3eb492ee0eb1ce27a6d282d0c6f68c778b"
   }
  }
 },
 "nbformat": 4,
 "nbformat_minor": 5
}
