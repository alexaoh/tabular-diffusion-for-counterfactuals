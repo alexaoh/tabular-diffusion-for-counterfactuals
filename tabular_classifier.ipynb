{
 "cells": [
  {
   "cell_type": "markdown",
   "id": "1d97d27c",
   "metadata": {},
   "source": [
    "# First NN with PyTorch on Tabular Data"
   ]
  },
  {
   "cell_type": "code",
   "execution_count": 126,
   "id": "bb54fca2",
   "metadata": {},
   "outputs": [
    {
     "name": "stdout",
     "output_type": "stream",
     "text": [
      "Using 'cuda' device.\n",
      "The working directory is /home/ajo/gitRepos/master_thesis\n"
     ]
    }
   ],
   "source": [
    "import pandas as pd\n",
    "import numpy as np\n",
    "import matplotlib.pyplot as plt\n",
    "from sklearn import metrics # plot_roc_curve.\n",
    "from sklearn.model_selection import train_test_split # Train/test/validation split of data.\n",
    "from sklearn.preprocessing import StandardScaler # Scale the data. \n",
    "\n",
    "# Pytorch imports\n",
    "import torch\n",
    "import torch.nn as nn\n",
    "from torch.utils.data import Dataset, DataLoader # Not sure what \"Dataset\" is for atm.\n",
    "\n",
    "# Configure the device \n",
    "device = torch.device('cuda' if torch.cuda.is_available() else 'cpu')\n",
    "print(f\"Using '{device}' device.\")\n",
    "\n",
    "# Print working directory (for control)\n",
    "import os\n",
    "print(f\"The working directory is {os.getcwd()}\")"
   ]
  },
  {
   "cell_type": "markdown",
   "id": "92869f9b",
   "metadata": {},
   "source": [
    "## Load the Adult census data"
   ]
  },
  {
   "cell_type": "code",
   "execution_count": 89,
   "id": "dd4b8af4",
   "metadata": {},
   "outputs": [
    {
     "name": "stdout",
     "output_type": "stream",
     "text": [
      "(48842, 14)\n",
      "True\n",
      "(45222, 14)\n"
     ]
    }
   ],
   "source": [
    "df1 = pd.read_csv(\"original_data/adult.data\", header = None, na_values = \" ?\")\n",
    "df2 = pd.read_csv(\"original_data/adult.test\", header = None, na_values = \" ?\")\n",
    "df1.columns = df2.columns = [\"age\",\"workclass\",\"fnlwgt\",\"education\",\"education_num\",\n",
    "                      \"marital_status\",\"occupation\",\"relationship\",\"race\",\"sex\",\n",
    "                      \"capital_gain\",\"capital_loss\",\"hours_per_week\",\"native_country\", \"y\"]\n",
    "adult_data = pd.concat([df1,df2])\n",
    "\n",
    "#print(adult_data.shape)\n",
    "#print(adult_data.info())\n",
    "#print(adult_data.head())\n",
    "\n",
    "# Remove \"education\" column.\n",
    "adult_data = adult_data.drop(columns = [\"education\"])\n",
    "\n",
    "# Check if there are any NA values. \n",
    "print(adult_data.shape)\n",
    "print(adult_data.isnull().values.any())\n",
    "adult_data = adult_data.dropna() # Drop the NA values since we know they are few for this data set. \n",
    "print(adult_data.shape)\n",
    "\n",
    "# Select covariates and response. \n",
    "X = adult_data.loc[:, adult_data.columns != \"y\"]\n",
    "y = adult_data.loc[:,\"y\"].tolist()"
   ]
  },
  {
   "cell_type": "markdown",
   "id": "38a9f85a",
   "metadata": {},
   "source": [
    "## Pre-processing of data\n",
    "\n",
    "* One-hot encoding of categorical features.\n",
    "* Train/test/validation split.\n",
    "* Standardization of numerical features (first in training data, then in testing and validation with the same center and scale."
   ]
  },
  {
   "cell_type": "code",
   "execution_count": 103,
   "id": "b33217db",
   "metadata": {},
   "outputs": [],
   "source": [
    "# One hot encoding."
   ]
  },
  {
   "cell_type": "code",
   "execution_count": 105,
   "id": "0a599df3",
   "metadata": {},
   "outputs": [
    {
     "name": "stdout",
     "output_type": "stream",
     "text": [
      "(30148, 13)\n",
      "(10049, 13)\n",
      "(5025, 13)\n"
     ]
    }
   ],
   "source": [
    "# Train/test/validation split.\n",
    "X_train, X_test, y_train, y_test = train_test_split(X, y, test_size=1/3, random_state=42)\n",
    "X_test, X_valid, y_test, y_valid = train_test_split(X_test, y_test, test_size=1/3, random_state=42)\n",
    "print(X_train.shape) # 2/3\n",
    "print(X_test.shape) # 2/9\n",
    "print(X_valid.shape) # 1/9"
   ]
  },
  {
   "cell_type": "code",
   "execution_count": 104,
   "id": "584f1237",
   "metadata": {},
   "outputs": [],
   "source": [
    "# Standardization."
   ]
  },
  {
   "cell_type": "code",
   "execution_count": null,
   "id": "bebeafb1",
   "metadata": {},
   "outputs": [],
   "source": []
  },
  {
   "cell_type": "code",
   "execution_count": null,
   "id": "e99c45f0",
   "metadata": {},
   "outputs": [],
   "source": []
  },
  {
   "cell_type": "code",
   "execution_count": null,
   "id": "09231339",
   "metadata": {},
   "outputs": [],
   "source": []
  },
  {
   "cell_type": "markdown",
   "id": "f05fe754",
   "metadata": {},
   "source": [
    "## Should use the Dataloader from Pytorch it seems"
   ]
  },
  {
   "cell_type": "code",
   "execution_count": 119,
   "id": "6fb72826",
   "metadata": {},
   "outputs": [
    {
     "ename": "NameError",
     "evalue": "name 'Dataset' is not defined",
     "output_type": "error",
     "traceback": [
      "\u001b[0;31m---------------------------------------------------------------------------\u001b[0m",
      "\u001b[0;31mNameError\u001b[0m                                 Traceback (most recent call last)",
      "Input \u001b[0;32mIn [119]\u001b[0m, in \u001b[0;36m<cell line: 3>\u001b[0;34m()\u001b[0m\n\u001b[1;32m      1\u001b[0m \u001b[38;5;66;03m# This can be done as below (for example).\u001b[39;00m\n\u001b[0;32m----> 3\u001b[0m \u001b[38;5;28;01mclass\u001b[39;00m \u001b[38;5;21;01mData\u001b[39;00m(\u001b[43mDataset\u001b[49m): \u001b[38;5;66;03m# Not sure what import is needed or how this is used right now.\u001b[39;00m\n\u001b[1;32m      4\u001b[0m     \u001b[38;5;28;01mdef\u001b[39;00m \u001b[38;5;21m__init__\u001b[39m(\u001b[38;5;28mself\u001b[39m, X, y):\n\u001b[1;32m      5\u001b[0m         \u001b[38;5;28mself\u001b[39m\u001b[38;5;241m.\u001b[39mX \u001b[38;5;241m=\u001b[39m torch\u001b[38;5;241m.\u001b[39mfrom_numpy(X\u001b[38;5;241m.\u001b[39mastype(np\u001b[38;5;241m.\u001b[39mfloat32))\n",
      "\u001b[0;31mNameError\u001b[0m: name 'Dataset' is not defined"
     ]
    }
   ],
   "source": [
    "# This can be done as below (for example).\n",
    "\n",
    "class Data(Dataset): # Not sure what import is needed or how this is used right now.\n",
    "    def __init__(self, X, y):\n",
    "        self.X = torch.from_numpy(X.astype(np.float32))\n",
    "        self.y = torch.from_numpy(y.astype(np.float32))\n",
    "        self.len = self.X.shape[0]\n",
    "       \n",
    "    def __getitem__(self, index):\n",
    "        return self.X[index], self.y[index]\n",
    "   \n",
    "    def __len__(self):\n",
    "        return self.len\n",
    "    \n",
    "    \n",
    "# This can then be used as shown below later:\n",
    "\n",
    "# select rows from the dataset\n",
    "train, test = random_split(dataset, [[...], [...]])\n",
    "\n",
    "# create a data loader for train and test sets\n",
    "train_loader = DataLoader(train, batch_size=32, shuffle=True)\n",
    "test_loader = DataLoader(test, batch_size=1024, shuffle=False)"
   ]
  },
  {
   "cell_type": "markdown",
   "id": "8195a1bb",
   "metadata": {},
   "source": [
    "## Build the Simple Classifier\n",
    "\n",
    "The classifier will have three dense layers with 18, 9 and 3 units respectively. In addition, it will use ReLU activations in each of the layers and have a sigmoid output activation, since we want to do binary classification of the output."
   ]
  },
  {
   "cell_type": "code",
   "execution_count": 117,
   "id": "9f719329",
   "metadata": {},
   "outputs": [
    {
     "data": {
      "text/plain": [
       "NeuralNet(\n",
       "  (l1): Linear(in_features=13, out_features=18, bias=True)\n",
       "  (l2): Linear(in_features=18, out_features=9, bias=True)\n",
       "  (l3): Linear(in_features=9, out_features=3, bias=True)\n",
       "  (output): Linear(in_features=3, out_features=1, bias=True)\n",
       "  (relu): ReLU()\n",
       "  (sigmoid): Sigmoid()\n",
       ")"
      ]
     },
     "execution_count": 117,
     "metadata": {},
     "output_type": "execute_result"
    }
   ],
   "source": [
    "# Set the hyperparameters.\n",
    "input_size = X_test.shape[1] # Number of columns in the data.\n",
    "num_epochs = 30\n",
    "batch_size = 1024\n",
    "learning_rate = 0.01\n",
    "\n",
    "# Could have used Pytorch sequential for this.\n",
    "class NeuralNet(nn.Module):\n",
    "    def __init__(self, input_size):\n",
    "        super(NeuralNet, self).__init__()\n",
    "        self.input_size = input_size\n",
    "        \n",
    "        # Layers. \n",
    "        self.l1 = nn.Linear(input_size, 18)\n",
    "        self.l2 = nn.Linear(18,9)\n",
    "        self.l3 = nn.Linear(9,3)\n",
    "        self.output = nn.Linear(3,1)\n",
    "        \n",
    "        # Activation functions.\n",
    "        self.relu = nn.ReLU()\n",
    "        self.sigmoid = nn.Sigmoid()\n",
    "    \n",
    "    def forward(self, x):\n",
    "        out = self.l1(x)\n",
    "        out = self.relu(out)\n",
    "        out = self.l2(out)\n",
    "        out = self.relu(out)\n",
    "        out = self.l3(out)\n",
    "        out = self.relu(out)\n",
    "        out = self.output(out)\n",
    "        out = self.sigmoid(out)\n",
    "        return out\n",
    "\n",
    "model = NeuralNet(input_size).to(device)\n",
    "model"
   ]
  },
  {
   "cell_type": "markdown",
   "id": "b6beeee0",
   "metadata": {},
   "source": [
    "# Next we need to test the network (and see if I can get the same results as in Keras earlier."
   ]
  },
  {
   "cell_type": "code",
   "execution_count": 120,
   "id": "6c26aafb",
   "metadata": {},
   "outputs": [
    {
     "ename": "NameError",
     "evalue": "name 'train_loader' is not defined",
     "output_type": "error",
     "traceback": [
      "\u001b[0;31m---------------------------------------------------------------------------\u001b[0m",
      "\u001b[0;31mNameError\u001b[0m                                 Traceback (most recent call last)",
      "Input \u001b[0;32mIn [120]\u001b[0m, in \u001b[0;36m<cell line: 6>\u001b[0;34m()\u001b[0m\n\u001b[1;32m      3\u001b[0m optimizer \u001b[38;5;241m=\u001b[39m torch\u001b[38;5;241m.\u001b[39moptim\u001b[38;5;241m.\u001b[39mAdam(model\u001b[38;5;241m.\u001b[39mparameters(), lr\u001b[38;5;241m=\u001b[39mlearning_rate)  \n\u001b[1;32m      5\u001b[0m \u001b[38;5;66;03m# Train the model\u001b[39;00m\n\u001b[0;32m----> 6\u001b[0m n_total_steps \u001b[38;5;241m=\u001b[39m \u001b[38;5;28mlen\u001b[39m(\u001b[43mtrain_loader\u001b[49m)\n\u001b[1;32m      7\u001b[0m \u001b[38;5;28;01mfor\u001b[39;00m epoch \u001b[38;5;129;01min\u001b[39;00m \u001b[38;5;28mrange\u001b[39m(num_epochs):\n\u001b[1;32m      8\u001b[0m     \u001b[38;5;66;03m# All the code below needs to be changed in order to acommodate my tabular data.\u001b[39;00m\n\u001b[1;32m      9\u001b[0m     \u001b[38;5;28;01mfor\u001b[39;00m i, (images, labels) \u001b[38;5;129;01min\u001b[39;00m \u001b[38;5;28menumerate\u001b[39m(train_loader):  \n\u001b[1;32m     10\u001b[0m         \u001b[38;5;66;03m# origin shape: [100, 1, 28, 28]\u001b[39;00m\n\u001b[1;32m     11\u001b[0m         \u001b[38;5;66;03m# resized: [100, 784]\u001b[39;00m\n",
      "\u001b[0;31mNameError\u001b[0m: name 'train_loader' is not defined"
     ]
    }
   ],
   "source": [
    "# Loss and optimizer\n",
    "criterion = nn.CrossEntropyLoss()\n",
    "optimizer = torch.optim.Adam(model.parameters(), lr=learning_rate)  \n",
    "\n",
    "# Train the model\n",
    "n_total_steps = len(train_loader)\n",
    "for epoch in range(num_epochs):\n",
    "    # All the code below needs to be changed in order to acommodate my tabular data.\n",
    "    for i, (images, labels) in enumerate(train_loader):  \n",
    "        # origin shape: [100, 1, 28, 28]\n",
    "        # resized: [100, 784]\n",
    "        images = images.reshape(-1, 28*28).to(device)\n",
    "        labels = labels.to(device)\n",
    "        \n",
    "        # Forward pass\n",
    "        outputs = model(images)\n",
    "        loss = criterion(outputs, labels)\n",
    "        \n",
    "        # Backward and optimize\n",
    "        optimizer.zero_grad()\n",
    "        loss.backward()\n",
    "        optimizer.step()\n",
    "        \n",
    "        if (i+1) % 100 == 0:\n",
    "            print (f'Epoch [{epoch+1}/{num_epochs}], Step [{i+1}/{n_total_steps}], Loss: {loss.item():.4f}')\n",
    "\n",
    "# Test the model\n",
    "# In test phase, we don't need to compute gradients (for memory efficiency)\n",
    "with torch.no_grad():\n",
    "    n_correct = 0\n",
    "    n_samples = 0\n",
    "    for images, labels in test_loader:\n",
    "        images = images.reshape(-1, 28*28).to(device)\n",
    "        labels = labels.to(device)\n",
    "        outputs = model(images)\n",
    "        # max returns (value ,index)\n",
    "        _, predicted = torch.max(outputs.data, 1)\n",
    "        n_samples += labels.size(0)\n",
    "        n_correct += (predicted == labels).sum().item()\n",
    "\n",
    "    acc = 100.0 * n_correct / n_samples\n",
    "    print(f'Accuracy of the network on the 10000 test images: {acc} %')"
   ]
  },
  {
   "cell_type": "markdown",
   "id": "7d296e75",
   "metadata": {},
   "source": [
    "# Perhaps we could follow [this](https://www.datacamp.com/tutorial/pytorch-tutorial-building-a-simple-neural-network-from-scratch) tutorial.\n"
   ]
  }
 ],
 "metadata": {
  "kernelspec": {
   "display_name": "Python 3 (ipykernel)",
   "language": "python",
   "name": "python3"
  },
  "language_info": {
   "codemirror_mode": {
    "name": "ipython",
    "version": 3
   },
   "file_extension": ".py",
   "mimetype": "text/x-python",
   "name": "python",
   "nbconvert_exporter": "python",
   "pygments_lexer": "ipython3",
   "version": "3.8.15"
  }
 },
 "nbformat": 4,
 "nbformat_minor": 5
}
