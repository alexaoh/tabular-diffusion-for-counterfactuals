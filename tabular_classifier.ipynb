{
 "cells": [
  {
   "cell_type": "markdown",
   "id": "1d97d27c",
   "metadata": {},
   "source": [
    "# First NN with PyTorch on Tabular Data"
   ]
  },
  {
   "cell_type": "code",
   "execution_count": 232,
   "id": "bb54fca2",
   "metadata": {},
   "outputs": [
    {
     "name": "stdout",
     "output_type": "stream",
     "text": [
      "Using 'cuda' device.\n",
      "The working directory is /home/ajo/gitRepos/master_thesis\n"
     ]
    }
   ],
   "source": [
    "import pandas as pd\n",
    "import numpy as np\n",
    "import matplotlib.pyplot as plt\n",
    "from sklearn import metrics # plot_roc_curve.\n",
    "from sklearn.model_selection import train_test_split # Train/test/validation split of data.\n",
    "import sklearn.preprocessing as preprocessing\n",
    "import patsy\n",
    "\n",
    "# Pytorch imports\n",
    "import torch\n",
    "import torch.nn as nn\n",
    "from torch.utils.data import Dataset, DataLoader # Not sure what \"Dataset\" is for atm.\n",
    "\n",
    "# Configure the device \n",
    "device = torch.device('cuda' if torch.cuda.is_available() else 'cpu')\n",
    "print(f\"Using '{device}' device.\")\n",
    "\n",
    "# Print working directory (for control)\n",
    "import os\n",
    "print(f\"The working directory is {os.getcwd()}\")"
   ]
  },
  {
   "cell_type": "markdown",
   "id": "92869f9b",
   "metadata": {},
   "source": [
    "## Load the Adult census data and pre-process a little"
   ]
  },
  {
   "cell_type": "code",
   "execution_count": 233,
   "id": "dd4b8af4",
   "metadata": {},
   "outputs": [
    {
     "name": "stdout",
     "output_type": "stream",
     "text": [
      "(48842, 14)\n",
      "True\n",
      "(45222, 14)\n",
      "Feature 'workclass'' has 7 unique levels\n",
      "Feature 'marital_status'' has 7 unique levels\n",
      "Feature 'occupation'' has 14 unique levels\n",
      "Feature 'relationship'' has 6 unique levels\n",
      "Feature 'race'' has 5 unique levels\n",
      "Feature 'sex'' has 2 unique levels\n",
      "Feature 'native_country'' has 41 unique levels\n",
      "The sum of all levels is 82. This will be the number of cat-columns after one-hot encoding (non-full rank)\n"
     ]
    }
   ],
   "source": [
    "df1 = pd.read_csv(\"original_data/adult.data\", header = None, na_values = \" ?\")\n",
    "df2 = pd.read_csv(\"original_data/adult.test\", header = None, na_values = \" ?\")\n",
    "df1.columns = df2.columns = [\"age\",\"workclass\",\"fnlwgt\",\"education\",\"education_num\",\n",
    "                      \"marital_status\",\"occupation\",\"relationship\",\"race\",\"sex\",\n",
    "                      \"capital_gain\",\"capital_loss\",\"hours_per_week\",\"native_country\", \"y\"]\n",
    "adult_data = pd.concat([df1,df2])\n",
    "\n",
    "categorical_features = [\"workclass\",\"marital_status\",\"occupation\",\"relationship\", \\\n",
    "                        \"race\",\"sex\",\"native_country\"]\n",
    "numerical_features = [\"age\",\"fnlwgt\",\"education_num\",\"capital_gain\",\"capital_loss\",\"hours_per_week\"]\n",
    "\n",
    "#print(adult_data.shape)\n",
    "#print(adult_data.info())\n",
    "#print(adult_data.head())\n",
    "\n",
    "# Remove \"education\" column.\n",
    "adult_data = adult_data.drop(columns = [\"education\"])\n",
    "\n",
    "# Check if there are any NA values. \n",
    "print(adult_data.shape)\n",
    "print(adult_data.isnull().values.any())\n",
    "adult_data = adult_data.dropna() # Drop the NA values since we know they are few for this data set. \n",
    "print(adult_data.shape)\n",
    "\n",
    "# Select covariates and response. \n",
    "X = adult_data.loc[:, adult_data.columns != \"y\"]\n",
    "y1 = adult_data.loc[:,\"y\"] # Temporary data frame. \n",
    "y = y1.copy()\n",
    "\n",
    "# Change y such that \" <=50K\"=0 and \" >50K\"=1\n",
    "y.loc[y == \" <=50K\"] = 0\n",
    "y.loc[y == \" <=50K.\"] = 0\n",
    "y.loc[y == \" >50K\"] = 1\n",
    "y.loc[y == \" >50K.\"] = 1\n",
    "\n",
    "\n",
    "# Get some more info about the levels in the categorical features below. \n",
    "summer = 0\n",
    "for feat in categorical_features:\n",
    "    unq = len(X[feat].value_counts().keys().unique())\n",
    "    print(f\"Feature '{feat}'' has {unq} unique levels\")\n",
    "    summer += unq\n",
    "print(f\"The sum of all levels is {summer}. This will be the number of cat-columns after one-hot encoding (non-full rank)\")"
   ]
  },
  {
   "cell_type": "markdown",
   "id": "38a9f85a",
   "metadata": {},
   "source": [
    "## Pre-processing of data\n",
    "\n",
    "* One-hot encoding of categorical features.\n",
    "* Train/test/validation split.\n",
    "* Standardization of numerical features (first in training data, then in testing and validation with the same center and scale."
   ]
  },
  {
   "cell_type": "code",
   "execution_count": 234,
   "id": "b33217db",
   "metadata": {},
   "outputs": [],
   "source": [
    "# One hot encoding of covariates using patsy.\n",
    "# The problem with this is that it is sparse! I want all the columns, i.e. not a full-rank design matrix. \n",
    "# I will do it manually instead. \n",
    "X_onehot = patsy.dmatrix(\"\"\"0+\n",
    "    age + workclass + fnlwgt + education_num + marital_status + occupation + relationship +\n",
    "    race + sex + capital_gain + capital_loss + hours_per_week + native_country \n",
    "    \"\"\", data = X)"
   ]
  },
  {
   "cell_type": "code",
   "execution_count": 235,
   "id": "d1e89bb2",
   "metadata": {},
   "outputs": [
    {
     "name": "stdout",
     "output_type": "stream",
     "text": [
      "(45222, 88)\n"
     ]
    }
   ],
   "source": [
    "# Thus, instead of patsy, we use Sklearn's OneHotEncoder. \n",
    "# Eventually, we could and chould make a class for data preprocessing.\n",
    "\n",
    "def fit_encoder(df):\n",
    "    return preprocessing.OneHotEncoder(handle_unknown = \"error\", sparse = False, drop = None).fit(df)\n",
    "\n",
    "one_hot_encoder = fit_encoder(X[categorical_features]) # Fit the encoder to the categorical data.\n",
    "X_onehot = X.copy() # Deep copy the X-data. \n",
    "\n",
    "encoded_features = one_hot_encoder.get_feature_names(categorical_features) # Get the encoded names. \n",
    "\n",
    "# Add the new columns to the new dataset (all the levels of the categorical features).\n",
    "X_onehot[encoded_features] = one_hot_encoder.transform(X_onehot[categorical_features])\n",
    "\n",
    "# Remove the old columns (before one-hot encoding)\n",
    "X_onehot = X_onehot.drop(categorical_features, axis = 1) \n",
    "print(X_onehot.shape) # Shape is correct!"
   ]
  },
  {
   "cell_type": "code",
   "execution_count": 236,
   "id": "0a599df3",
   "metadata": {},
   "outputs": [
    {
     "name": "stdout",
     "output_type": "stream",
     "text": [
      "(30148, 88)\n",
      "(10049, 88)\n",
      "(5025, 88)\n"
     ]
    },
    {
     "data": {
      "text/html": [
       "<div>\n",
       "<style scoped>\n",
       "    .dataframe tbody tr th:only-of-type {\n",
       "        vertical-align: middle;\n",
       "    }\n",
       "\n",
       "    .dataframe tbody tr th {\n",
       "        vertical-align: top;\n",
       "    }\n",
       "\n",
       "    .dataframe thead th {\n",
       "        text-align: right;\n",
       "    }\n",
       "</style>\n",
       "<table border=\"1\" class=\"dataframe\">\n",
       "  <thead>\n",
       "    <tr style=\"text-align: right;\">\n",
       "      <th></th>\n",
       "      <th>age</th>\n",
       "      <th>fnlwgt</th>\n",
       "      <th>education_num</th>\n",
       "      <th>capital_gain</th>\n",
       "      <th>capital_loss</th>\n",
       "      <th>hours_per_week</th>\n",
       "    </tr>\n",
       "  </thead>\n",
       "  <tbody>\n",
       "    <tr>\n",
       "      <th>count</th>\n",
       "      <td>30148.00000</td>\n",
       "      <td>3.014800e+04</td>\n",
       "      <td>30148.000000</td>\n",
       "      <td>30148.000000</td>\n",
       "      <td>30148.000000</td>\n",
       "      <td>30148.000000</td>\n",
       "    </tr>\n",
       "    <tr>\n",
       "      <th>mean</th>\n",
       "      <td>38.54249</td>\n",
       "      <td>1.896485e+05</td>\n",
       "      <td>10.124453</td>\n",
       "      <td>1091.022788</td>\n",
       "      <td>87.993200</td>\n",
       "      <td>40.939697</td>\n",
       "    </tr>\n",
       "    <tr>\n",
       "      <th>std</th>\n",
       "      <td>13.24241</td>\n",
       "      <td>1.059980e+05</td>\n",
       "      <td>2.565913</td>\n",
       "      <td>7519.182124</td>\n",
       "      <td>403.737188</td>\n",
       "      <td>12.015423</td>\n",
       "    </tr>\n",
       "    <tr>\n",
       "      <th>min</th>\n",
       "      <td>17.00000</td>\n",
       "      <td>1.349200e+04</td>\n",
       "      <td>1.000000</td>\n",
       "      <td>0.000000</td>\n",
       "      <td>0.000000</td>\n",
       "      <td>1.000000</td>\n",
       "    </tr>\n",
       "    <tr>\n",
       "      <th>25%</th>\n",
       "      <td>28.00000</td>\n",
       "      <td>1.172680e+05</td>\n",
       "      <td>9.000000</td>\n",
       "      <td>0.000000</td>\n",
       "      <td>0.000000</td>\n",
       "      <td>40.000000</td>\n",
       "    </tr>\n",
       "    <tr>\n",
       "      <th>50%</th>\n",
       "      <td>37.00000</td>\n",
       "      <td>1.782450e+05</td>\n",
       "      <td>10.000000</td>\n",
       "      <td>0.000000</td>\n",
       "      <td>0.000000</td>\n",
       "      <td>40.000000</td>\n",
       "    </tr>\n",
       "    <tr>\n",
       "      <th>75%</th>\n",
       "      <td>47.00000</td>\n",
       "      <td>2.378410e+05</td>\n",
       "      <td>13.000000</td>\n",
       "      <td>0.000000</td>\n",
       "      <td>0.000000</td>\n",
       "      <td>45.000000</td>\n",
       "    </tr>\n",
       "    <tr>\n",
       "      <th>max</th>\n",
       "      <td>90.00000</td>\n",
       "      <td>1.490400e+06</td>\n",
       "      <td>16.000000</td>\n",
       "      <td>99999.000000</td>\n",
       "      <td>4356.000000</td>\n",
       "      <td>99.000000</td>\n",
       "    </tr>\n",
       "  </tbody>\n",
       "</table>\n",
       "</div>"
      ],
      "text/plain": [
       "               age        fnlwgt  education_num  capital_gain  capital_loss  \\\n",
       "count  30148.00000  3.014800e+04   30148.000000  30148.000000  30148.000000   \n",
       "mean      38.54249  1.896485e+05      10.124453   1091.022788     87.993200   \n",
       "std       13.24241  1.059980e+05       2.565913   7519.182124    403.737188   \n",
       "min       17.00000  1.349200e+04       1.000000      0.000000      0.000000   \n",
       "25%       28.00000  1.172680e+05       9.000000      0.000000      0.000000   \n",
       "50%       37.00000  1.782450e+05      10.000000      0.000000      0.000000   \n",
       "75%       47.00000  2.378410e+05      13.000000      0.000000      0.000000   \n",
       "max       90.00000  1.490400e+06      16.000000  99999.000000   4356.000000   \n",
       "\n",
       "       hours_per_week  \n",
       "count    30148.000000  \n",
       "mean        40.939697  \n",
       "std         12.015423  \n",
       "min          1.000000  \n",
       "25%         40.000000  \n",
       "50%         40.000000  \n",
       "75%         45.000000  \n",
       "max         99.000000  "
      ]
     },
     "execution_count": 236,
     "metadata": {},
     "output_type": "execute_result"
    }
   ],
   "source": [
    "# Train/test/validation split.\n",
    "X_train, X_test, y_train, y_test = train_test_split(X_onehot, y, test_size=1/3, random_state=42)\n",
    "X_test, X_valid, y_test, y_valid = train_test_split(X_test, y_test, test_size=1/3, random_state=42)\n",
    "print(X_train.shape) # 2/3\n",
    "print(X_test.shape) # 2/9\n",
    "print(X_valid.shape) # 1/9\n",
    "\n",
    "X_train[numerical_features].describe()"
   ]
  },
  {
   "cell_type": "code",
   "execution_count": 237,
   "id": "584f1237",
   "metadata": {},
   "outputs": [
    {
     "name": "stdout",
     "output_type": "stream",
     "text": [
      "[3.85424904e+01 1.89648480e+05 1.01244527e+01 1.09102279e+03\n",
      " 8.79932002e+01 4.09396975e+01]\n",
      "[1.32421901e+01 1.05996196e+05 2.56587001e+00 7.51905742e+03\n",
      " 4.03730492e+02 1.20152240e+01]\n",
      "38.54249038078811 13.24240970248874\n",
      "189648.48046304897 105997.95387198124\n",
      "10.124452700013268 2.5659125673331697\n"
     ]
    },
    {
     "data": {
      "text/plain": [
       "<matplotlib.legend.Legend at 0x7fe9dae4eac0>"
      ]
     },
     "execution_count": 237,
     "metadata": {},
     "output_type": "execute_result"
    },
    {
     "data": {
      "image/png": "[encoded data removed]",
      "text/plain": [
       "<Figure size 432x288 with 1 Axes>"
      ]
     },
     "metadata": {
      "needs_background": "light"
     },
     "output_type": "display_data"
    }
   ],
   "source": [
    "# Standardization. We standardize according to the training data!\n",
    "\n",
    "def fit_scaler(df):\n",
    "    return preprocessing.StandardScaler().fit(df)\n",
    "    # could also use the quantile transformer!\n",
    "\n",
    "# Fit the scaler to the training data to acquire correct center and scale.\n",
    "standard_scaler = fit_scaler(X_train[numerical_features]) \n",
    "\n",
    "def scale(df,standard_scaler):\n",
    "    output = df.copy()\n",
    "    output[numerical_features] = standard_scaler.transform(output[numerical_features])\n",
    "    return output\n",
    "\n",
    "def descale(df,standard_scaler):\n",
    "    output = df.copy()\n",
    "    output[numerical_features] = standard_scaler.inverse_transform(output[numerical_features])\n",
    "    return output\n",
    "\n",
    "# Check if the means and scales of each of the columns are correct. \n",
    "# Use this to standardize the validation and testing data as well. \n",
    "print(standard_scaler.mean_)\n",
    "print(standard_scaler.scale_)\n",
    "\n",
    "print(X_train[\"age\"].mean(), X_train[\"age\"].std())\n",
    "print(X_train[\"fnlwgt\"].mean(), X_train[\"fnlwgt\"].std())\n",
    "print(X_train[\"education_num\"].mean(), X_train[\"education_num\"].std())\n",
    "# The scales are not completely correct! Not sure why?\n",
    "\n",
    "# Standardize the two other data sets according to the same centering/scaling as the training data. \n",
    "X_train2 = scale(X_train, standard_scaler)\n",
    "X_train3 = descale(X_train2, standard_scaler)\n",
    "plt.hist(X_train2[\"age\"], label = \"Stand\")\n",
    "plt.hist(X_train3[\"age\"], label = \"Back\")\n",
    "plt.hist(X_train[\"age\"], label = \"OG\", alpha = 0.3)\n",
    "plt.title(\"Hist of Age\")\n",
    "plt.legend() # Seems to work fine!"
   ]
  },
  {
   "cell_type": "code",
   "execution_count": 238,
   "id": "bebeafb1",
   "metadata": {},
   "outputs": [],
   "source": [
    "# Standardize the training data.\n",
    "X_train = scale(X_train, standard_scaler)\n",
    "\n",
    "# Standardize the testing data.\n",
    "X_test = scale(X_test, standard_scaler)\n",
    "\n",
    "# Standardize the validation data.\n",
    "X_valid = scale(X_valid, standard_scaler)"
   ]
  },
  {
   "cell_type": "code",
   "execution_count": 239,
   "id": "e99c45f0",
   "metadata": {},
   "outputs": [
    {
     "data": {
      "text/html": [
       "<div>\n",
       "<style scoped>\n",
       "    .dataframe tbody tr th:only-of-type {\n",
       "        vertical-align: middle;\n",
       "    }\n",
       "\n",
       "    .dataframe tbody tr th {\n",
       "        vertical-align: top;\n",
       "    }\n",
       "\n",
       "    .dataframe thead th {\n",
       "        text-align: right;\n",
       "    }\n",
       "</style>\n",
       "<table border=\"1\" class=\"dataframe\">\n",
       "  <thead>\n",
       "    <tr style=\"text-align: right;\">\n",
       "      <th></th>\n",
       "      <th>age</th>\n",
       "      <th>fnlwgt</th>\n",
       "      <th>education_num</th>\n",
       "      <th>capital_gain</th>\n",
       "      <th>capital_loss</th>\n",
       "      <th>hours_per_week</th>\n",
       "    </tr>\n",
       "  </thead>\n",
       "  <tbody>\n",
       "    <tr>\n",
       "      <th>count</th>\n",
       "      <td>3.014800e+04</td>\n",
       "      <td>3.014800e+04</td>\n",
       "      <td>3.014800e+04</td>\n",
       "      <td>3.014800e+04</td>\n",
       "      <td>3.014800e+04</td>\n",
       "      <td>3.014800e+04</td>\n",
       "    </tr>\n",
       "    <tr>\n",
       "      <th>mean</th>\n",
       "      <td>2.836762e-16</td>\n",
       "      <td>-7.660495e-17</td>\n",
       "      <td>1.999955e-15</td>\n",
       "      <td>-2.867291e-15</td>\n",
       "      <td>-2.319599e-16</td>\n",
       "      <td>-2.162275e-16</td>\n",
       "    </tr>\n",
       "    <tr>\n",
       "      <th>std</th>\n",
       "      <td>1.000017e+00</td>\n",
       "      <td>1.000017e+00</td>\n",
       "      <td>1.000017e+00</td>\n",
       "      <td>1.000017e+00</td>\n",
       "      <td>1.000017e+00</td>\n",
       "      <td>1.000017e+00</td>\n",
       "    </tr>\n",
       "    <tr>\n",
       "      <th>min</th>\n",
       "      <td>-1.626807e+00</td>\n",
       "      <td>-1.661913e+00</td>\n",
       "      <td>-3.556085e+00</td>\n",
       "      <td>-1.451010e-01</td>\n",
       "      <td>-2.179503e-01</td>\n",
       "      <td>-3.324091e+00</td>\n",
       "    </tr>\n",
       "    <tr>\n",
       "      <th>25%</th>\n",
       "      <td>-7.961289e-01</td>\n",
       "      <td>-6.828592e-01</td>\n",
       "      <td>-4.382345e-01</td>\n",
       "      <td>-1.451010e-01</td>\n",
       "      <td>-2.179503e-01</td>\n",
       "      <td>-7.820890e-02</td>\n",
       "    </tr>\n",
       "    <tr>\n",
       "      <th>50%</th>\n",
       "      <td>-1.164830e-01</td>\n",
       "      <td>-1.075839e-01</td>\n",
       "      <td>-4.850312e-02</td>\n",
       "      <td>-1.451010e-01</td>\n",
       "      <td>-2.179503e-01</td>\n",
       "      <td>-7.820890e-02</td>\n",
       "    </tr>\n",
       "    <tr>\n",
       "      <th>75%</th>\n",
       "      <td>6.386791e-01</td>\n",
       "      <td>4.546627e-01</td>\n",
       "      <td>1.120691e+00</td>\n",
       "      <td>-1.451010e-01</td>\n",
       "      <td>-2.179503e-01</td>\n",
       "      <td>3.379298e-01</td>\n",
       "    </tr>\n",
       "    <tr>\n",
       "      <th>max</th>\n",
       "      <td>3.885876e+00</td>\n",
       "      <td>1.227168e+01</td>\n",
       "      <td>2.289885e+00</td>\n",
       "      <td>1.315431e+01</td>\n",
       "      <td>1.057143e+01</td>\n",
       "      <td>4.832228e+00</td>\n",
       "    </tr>\n",
       "  </tbody>\n",
       "</table>\n",
       "</div>"
      ],
      "text/plain": [
       "                age        fnlwgt  education_num  capital_gain  capital_loss  \\\n",
       "count  3.014800e+04  3.014800e+04   3.014800e+04  3.014800e+04  3.014800e+04   \n",
       "mean   2.836762e-16 -7.660495e-17   1.999955e-15 -2.867291e-15 -2.319599e-16   \n",
       "std    1.000017e+00  1.000017e+00   1.000017e+00  1.000017e+00  1.000017e+00   \n",
       "min   -1.626807e+00 -1.661913e+00  -3.556085e+00 -1.451010e-01 -2.179503e-01   \n",
       "25%   -7.961289e-01 -6.828592e-01  -4.382345e-01 -1.451010e-01 -2.179503e-01   \n",
       "50%   -1.164830e-01 -1.075839e-01  -4.850312e-02 -1.451010e-01 -2.179503e-01   \n",
       "75%    6.386791e-01  4.546627e-01   1.120691e+00 -1.451010e-01 -2.179503e-01   \n",
       "max    3.885876e+00  1.227168e+01   2.289885e+00  1.315431e+01  1.057143e+01   \n",
       "\n",
       "       hours_per_week  \n",
       "count    3.014800e+04  \n",
       "mean    -2.162275e-16  \n",
       "std      1.000017e+00  \n",
       "min     -3.324091e+00  \n",
       "25%     -7.820890e-02  \n",
       "50%     -7.820890e-02  \n",
       "75%      3.379298e-01  \n",
       "max      4.832228e+00  "
      ]
     },
     "execution_count": 239,
     "metadata": {},
     "output_type": "execute_result"
    }
   ],
   "source": [
    "X_train[numerical_features].describe()"
   ]
  },
  {
   "cell_type": "code",
   "execution_count": 240,
   "id": "09231339",
   "metadata": {},
   "outputs": [
    {
     "data": {
      "text/html": [
       "<div>\n",
       "<style scoped>\n",
       "    .dataframe tbody tr th:only-of-type {\n",
       "        vertical-align: middle;\n",
       "    }\n",
       "\n",
       "    .dataframe tbody tr th {\n",
       "        vertical-align: top;\n",
       "    }\n",
       "\n",
       "    .dataframe thead th {\n",
       "        text-align: right;\n",
       "    }\n",
       "</style>\n",
       "<table border=\"1\" class=\"dataframe\">\n",
       "  <thead>\n",
       "    <tr style=\"text-align: right;\">\n",
       "      <th></th>\n",
       "      <th>age</th>\n",
       "      <th>fnlwgt</th>\n",
       "      <th>education_num</th>\n",
       "      <th>capital_gain</th>\n",
       "      <th>capital_loss</th>\n",
       "      <th>hours_per_week</th>\n",
       "    </tr>\n",
       "  </thead>\n",
       "  <tbody>\n",
       "    <tr>\n",
       "      <th>count</th>\n",
       "      <td>30148.00000</td>\n",
       "      <td>3.014800e+04</td>\n",
       "      <td>30148.000000</td>\n",
       "      <td>30148.000000</td>\n",
       "      <td>30148.000000</td>\n",
       "      <td>30148.000000</td>\n",
       "    </tr>\n",
       "    <tr>\n",
       "      <th>mean</th>\n",
       "      <td>38.54249</td>\n",
       "      <td>1.896485e+05</td>\n",
       "      <td>10.124453</td>\n",
       "      <td>1091.022788</td>\n",
       "      <td>87.993200</td>\n",
       "      <td>40.939697</td>\n",
       "    </tr>\n",
       "    <tr>\n",
       "      <th>std</th>\n",
       "      <td>13.24241</td>\n",
       "      <td>1.059980e+05</td>\n",
       "      <td>2.565913</td>\n",
       "      <td>7519.182124</td>\n",
       "      <td>403.737188</td>\n",
       "      <td>12.015423</td>\n",
       "    </tr>\n",
       "    <tr>\n",
       "      <th>min</th>\n",
       "      <td>17.00000</td>\n",
       "      <td>1.349200e+04</td>\n",
       "      <td>1.000000</td>\n",
       "      <td>0.000000</td>\n",
       "      <td>0.000000</td>\n",
       "      <td>1.000000</td>\n",
       "    </tr>\n",
       "    <tr>\n",
       "      <th>25%</th>\n",
       "      <td>28.00000</td>\n",
       "      <td>1.172680e+05</td>\n",
       "      <td>9.000000</td>\n",
       "      <td>0.000000</td>\n",
       "      <td>0.000000</td>\n",
       "      <td>40.000000</td>\n",
       "    </tr>\n",
       "    <tr>\n",
       "      <th>50%</th>\n",
       "      <td>37.00000</td>\n",
       "      <td>1.782450e+05</td>\n",
       "      <td>10.000000</td>\n",
       "      <td>0.000000</td>\n",
       "      <td>0.000000</td>\n",
       "      <td>40.000000</td>\n",
       "    </tr>\n",
       "    <tr>\n",
       "      <th>75%</th>\n",
       "      <td>47.00000</td>\n",
       "      <td>2.378410e+05</td>\n",
       "      <td>13.000000</td>\n",
       "      <td>0.000000</td>\n",
       "      <td>0.000000</td>\n",
       "      <td>45.000000</td>\n",
       "    </tr>\n",
       "    <tr>\n",
       "      <th>max</th>\n",
       "      <td>90.00000</td>\n",
       "      <td>1.490400e+06</td>\n",
       "      <td>16.000000</td>\n",
       "      <td>99999.000000</td>\n",
       "      <td>4356.000000</td>\n",
       "      <td>99.000000</td>\n",
       "    </tr>\n",
       "  </tbody>\n",
       "</table>\n",
       "</div>"
      ],
      "text/plain": [
       "               age        fnlwgt  education_num  capital_gain  capital_loss  \\\n",
       "count  30148.00000  3.014800e+04   30148.000000  30148.000000  30148.000000   \n",
       "mean      38.54249  1.896485e+05      10.124453   1091.022788     87.993200   \n",
       "std       13.24241  1.059980e+05       2.565913   7519.182124    403.737188   \n",
       "min       17.00000  1.349200e+04       1.000000      0.000000      0.000000   \n",
       "25%       28.00000  1.172680e+05       9.000000      0.000000      0.000000   \n",
       "50%       37.00000  1.782450e+05      10.000000      0.000000      0.000000   \n",
       "75%       47.00000  2.378410e+05      13.000000      0.000000      0.000000   \n",
       "max       90.00000  1.490400e+06      16.000000  99999.000000   4356.000000   \n",
       "\n",
       "       hours_per_week  \n",
       "count    30148.000000  \n",
       "mean        40.939697  \n",
       "std         12.015423  \n",
       "min          1.000000  \n",
       "25%         40.000000  \n",
       "50%         40.000000  \n",
       "75%         45.000000  \n",
       "max         99.000000  "
      ]
     },
     "execution_count": 240,
     "metadata": {},
     "output_type": "execute_result"
    }
   ],
   "source": [
    "descale(X_train, standard_scaler)[numerical_features].describe()"
   ]
  },
  {
   "cell_type": "markdown",
   "id": "f05fe754",
   "metadata": {},
   "source": [
    "## Should use the Dataloader from Pytorch to get batching"
   ]
  },
  {
   "cell_type": "code",
   "execution_count": 241,
   "id": "6fb72826",
   "metadata": {},
   "outputs": [
    {
     "name": "stdout",
     "output_type": "stream",
     "text": [
      "(tensor([-1.4003, -0.2451, -0.0485, -0.1451, -0.2180, -1.9924,  0.0000,  0.0000,\n",
      "         1.0000,  0.0000,  0.0000,  0.0000,  0.0000,  0.0000,  0.0000,  0.0000,\n",
      "         0.0000,  1.0000,  0.0000,  0.0000,  0.0000,  0.0000,  0.0000,  0.0000,\n",
      "         0.0000,  0.0000,  0.0000,  0.0000,  0.0000,  0.0000,  0.0000,  0.0000,\n",
      "         0.0000,  1.0000,  0.0000,  0.0000,  0.0000,  1.0000,  0.0000,  0.0000,\n",
      "         0.0000,  0.0000,  0.0000,  0.0000,  1.0000,  1.0000,  0.0000,  0.0000,\n",
      "         0.0000,  0.0000,  0.0000,  0.0000,  0.0000,  0.0000,  0.0000,  0.0000,\n",
      "         0.0000,  0.0000,  0.0000,  0.0000,  0.0000,  0.0000,  0.0000,  0.0000,\n",
      "         0.0000,  0.0000,  0.0000,  0.0000,  0.0000,  0.0000,  0.0000,  0.0000,\n",
      "         0.0000,  0.0000,  0.0000,  0.0000,  0.0000,  0.0000,  0.0000,  0.0000,\n",
      "         0.0000,  0.0000,  0.0000,  0.0000,  0.0000,  1.0000,  0.0000,  0.0000]), tensor([0.]))\n",
      "<class 'torch.Tensor'> <class 'torch.Tensor'>\n"
     ]
    }
   ],
   "source": [
    "# This can be done as below (for example).\n",
    "\n",
    "class CustomDataset(Dataset):\n",
    "    \n",
    "    def __init__(self, X, y, transform = None, valid = True):\n",
    "        # Could load the Adult data directly in here. Or could take X, y from Adult data loaded earlier. \n",
    "        self.X = X.values.astype(np.float32) # Return a Numpy array with the dataframe contents. \n",
    "        self.y = np.reshape(y.values,(len(y.values),1)).astype(np.float32) # Return a Numpy array with the dataframe contents. \n",
    "        # Needed to reshape a little above, check that this is correct later!\n",
    "        \n",
    "        # use the methods defined below to split the data, scale and one-hot encode directly\n",
    "        # in the constructor (very smooth!)\n",
    "        \n",
    "        self.n_samples = self.X.shape[0]\n",
    "        self.transform = transform\n",
    "       \n",
    "    def __getitem__(self, index):\n",
    "        sample = self.X[index], self.y[index]\n",
    "        #return sample\n",
    "        if self.transform:\n",
    "            sample = self.transform(sample)\n",
    "        return sample\n",
    "   \n",
    "    def __len__(self):\n",
    "        return self.n_samples\n",
    "    \n",
    "    # Could add a lot more of the preprocessing of the data to this class eventually!\n",
    "    \n",
    "    def train_test_valid_split(self, valid=True):\n",
    "        #split the data into train/test and validation (optional)\n",
    "        pass\n",
    "            \n",
    "    \n",
    "    def scale(self):\n",
    "        #scale the numerical data according to the training data. \n",
    "        pass\n",
    "    \n",
    "    def descale(self):\n",
    "        #descale the numerical data according to the training data. \n",
    "        pass\n",
    "\n",
    "    def fit_scaler(self):\n",
    "        #fit the numerical data scaler according to the training data. \n",
    "        pass\n",
    "    \n",
    "    def encode(self):\n",
    "        #encode the categorical data (one-hot for now)\n",
    "        pass\n",
    "    \n",
    "    def decode(self):\n",
    "        #decode the categorical data (from one-hot)\n",
    "        pass\n",
    "    \n",
    "    def fit_encoder(self):\n",
    "        #fit the encoder to the categorical data features. \n",
    "        pass\n",
    "    \n",
    "class ToTensor: # Transform to Pytorch tensors. \n",
    "    def __call__(self, sample):\n",
    "        inputs, labels = sample\n",
    "        #print(labels)\n",
    "        return torch.from_numpy(inputs), torch.from_numpy(labels)\n",
    "\n",
    "\n",
    "# select rows from the dataset\n",
    "train_data = CustomDataset(X_train, y_train, transform = ToTensor()) # Here we put the Adult data loaded in earlier cells into the Dataset type. \n",
    "\n",
    "# Check if it works as expected.\n",
    "nex = train_data[0]\n",
    "print(nex)\n",
    "print(type(nex[0]), type(nex[1]))"
   ]
  },
  {
   "cell_type": "markdown",
   "id": "8195a1bb",
   "metadata": {},
   "source": [
    "## Build the Simple Classifier\n",
    "\n",
    "The classifier will have three dense layers with 18, 9 and 3 units respectively. In addition, it will use ReLU activations in each of the layers and have a sigmoid output activation, since we want to do binary classification of the output."
   ]
  },
  {
   "cell_type": "code",
   "execution_count": 242,
   "id": "9f719329",
   "metadata": {},
   "outputs": [
    {
     "name": "stdout",
     "output_type": "stream",
     "text": [
      "NeuralNet(\n",
      "  (l1): Linear(in_features=88, out_features=18, bias=True)\n",
      "  (l2): Linear(in_features=18, out_features=9, bias=True)\n",
      "  (l3): Linear(in_features=9, out_features=3, bias=True)\n",
      "  (output): Linear(in_features=3, out_features=1, bias=True)\n",
      "  (relu): ReLU()\n",
      "  (sigmoid): Sigmoid()\n",
      ")\n"
     ]
    }
   ],
   "source": [
    "# Set the hyperparameters.\n",
    "input_size = X_test.shape[1] # Number of columns in the data.\n",
    "\n",
    "# Could have used Pytorch sequential for this.\n",
    "class NeuralNet(nn.Module):\n",
    "    def __init__(self, input_size):\n",
    "        super(NeuralNet, self).__init__()\n",
    "        self.input_size = input_size\n",
    "        \n",
    "        # Layers. \n",
    "        self.l1 = nn.Linear(input_size, 18)\n",
    "        self.l2 = nn.Linear(18,9)\n",
    "        self.l3 = nn.Linear(9,3)\n",
    "        self.output = nn.Linear(3,1)\n",
    "        \n",
    "        # Activation functions.\n",
    "        self.relu = nn.ReLU()\n",
    "        self.sigmoid = nn.Sigmoid()\n",
    "    \n",
    "    def forward(self, x):\n",
    "        out = self.l1(x)\n",
    "        out = self.relu(out)\n",
    "        out = self.l2(out)\n",
    "        out = self.relu(out)\n",
    "        out = self.l3(out)\n",
    "        out = self.relu(out)\n",
    "        out = self.output(out)\n",
    "        out = self.sigmoid(out) \n",
    "        return out\n",
    "\n",
    "model = NeuralNet(input_size).to(device) # Load the neural net onto the gpu.\n",
    "print(model) # Have a look at the neural network."
   ]
  },
  {
   "cell_type": "markdown",
   "id": "b6beeee0",
   "metadata": {},
   "source": [
    "## Train the model."
   ]
  },
  {
   "cell_type": "code",
   "execution_count": 243,
   "id": "6c26aafb",
   "metadata": {},
   "outputs": [
    {
     "name": "stdout",
     "output_type": "stream",
     "text": [
      "Epoch [1/30], Step [10/30], Loss: 0.4979, Acc: 0.7705\n",
      "Epoch [1/30], Step [20/30], Loss: 0.4078, Acc: 0.7588\n",
      "Epoch [1/30], Step [30/30], Loss: 0.4600, Acc: 0.7345\n",
      "Epoch [2/30], Step [10/30], Loss: 0.4169, Acc: 0.7500\n",
      "Epoch [2/30], Step [20/30], Loss: 0.3865, Acc: 0.7617\n",
      "Epoch [2/30], Step [30/30], Loss: 0.3903, Acc: 0.7655\n",
      "Epoch [3/30], Step [10/30], Loss: 0.3761, Acc: 0.7588\n",
      "Epoch [3/30], Step [20/30], Loss: 0.3864, Acc: 0.7393\n",
      "Epoch [3/30], Step [30/30], Loss: 0.3506, Acc: 0.7434\n",
      "Epoch [4/30], Step [10/30], Loss: 0.3648, Acc: 0.8311\n",
      "Epoch [4/30], Step [20/30], Loss: 0.3580, Acc: 0.8506\n",
      "Epoch [4/30], Step [30/30], Loss: 0.3581, Acc: 0.8274\n",
      "Epoch [5/30], Step [10/30], Loss: 0.3397, Acc: 0.8496\n",
      "Epoch [5/30], Step [20/30], Loss: 0.3641, Acc: 0.8223\n",
      "Epoch [5/30], Step [30/30], Loss: 0.3199, Acc: 0.8717\n",
      "Epoch [6/30], Step [10/30], Loss: 0.3405, Acc: 0.8525\n",
      "Epoch [6/30], Step [20/30], Loss: 0.3555, Acc: 0.8418\n",
      "Epoch [6/30], Step [30/30], Loss: 0.3451, Acc: 0.8584\n",
      "Epoch [7/30], Step [10/30], Loss: 0.3217, Acc: 0.8682\n",
      "Epoch [7/30], Step [20/30], Loss: 0.3039, Acc: 0.8799\n",
      "Epoch [7/30], Step [30/30], Loss: 0.3126, Acc: 0.8628\n",
      "Epoch [8/30], Step [10/30], Loss: 0.3034, Acc: 0.8535\n",
      "Epoch [8/30], Step [20/30], Loss: 0.3487, Acc: 0.8418\n",
      "Epoch [8/30], Step [30/30], Loss: 0.3407, Acc: 0.8341\n",
      "Epoch [9/30], Step [10/30], Loss: 0.3381, Acc: 0.8555\n",
      "Epoch [9/30], Step [20/30], Loss: 0.3209, Acc: 0.8506\n",
      "Epoch [9/30], Step [30/30], Loss: 0.3222, Acc: 0.8518\n",
      "Epoch [10/30], Step [10/30], Loss: 0.3332, Acc: 0.8506\n",
      "Epoch [10/30], Step [20/30], Loss: 0.3143, Acc: 0.8604\n",
      "Epoch [10/30], Step [30/30], Loss: 0.3431, Acc: 0.8407\n",
      "Epoch [11/30], Step [10/30], Loss: 0.3121, Acc: 0.8516\n",
      "Epoch [11/30], Step [20/30], Loss: 0.3375, Acc: 0.8438\n",
      "Epoch [11/30], Step [30/30], Loss: 0.2950, Acc: 0.8628\n",
      "Epoch [12/30], Step [10/30], Loss: 0.3122, Acc: 0.8467\n",
      "Epoch [12/30], Step [20/30], Loss: 0.3427, Acc: 0.8496\n",
      "Epoch [12/30], Step [30/30], Loss: 0.3001, Acc: 0.8783\n",
      "Epoch [13/30], Step [10/30], Loss: 0.3043, Acc: 0.8594\n",
      "Epoch [13/30], Step [20/30], Loss: 0.3420, Acc: 0.8496\n",
      "Epoch [13/30], Step [30/30], Loss: 0.3160, Acc: 0.8429\n",
      "Epoch [14/30], Step [10/30], Loss: 0.3346, Acc: 0.8428\n",
      "Epoch [14/30], Step [20/30], Loss: 0.3040, Acc: 0.8623\n",
      "Epoch [14/30], Step [30/30], Loss: 0.3298, Acc: 0.8429\n",
      "Epoch [15/30], Step [10/30], Loss: 0.3309, Acc: 0.8613\n",
      "Epoch [15/30], Step [20/30], Loss: 0.2995, Acc: 0.8516\n",
      "Epoch [15/30], Step [30/30], Loss: 0.2887, Acc: 0.8562\n",
      "Epoch [16/30], Step [10/30], Loss: 0.3355, Acc: 0.8340\n",
      "Epoch [16/30], Step [20/30], Loss: 0.2898, Acc: 0.8740\n",
      "Epoch [16/30], Step [30/30], Loss: 0.2983, Acc: 0.8717\n",
      "Epoch [17/30], Step [10/30], Loss: 0.2996, Acc: 0.8545\n",
      "Epoch [17/30], Step [20/30], Loss: 0.3274, Acc: 0.8457\n",
      "Epoch [17/30], Step [30/30], Loss: 0.2897, Acc: 0.8584\n",
      "Epoch [18/30], Step [10/30], Loss: 0.3046, Acc: 0.8545\n",
      "Epoch [18/30], Step [20/30], Loss: 0.2909, Acc: 0.8682\n",
      "Epoch [18/30], Step [30/30], Loss: 0.3400, Acc: 0.8540\n",
      "Epoch [19/30], Step [10/30], Loss: 0.3006, Acc: 0.8662\n",
      "Epoch [19/30], Step [20/30], Loss: 0.3161, Acc: 0.8496\n",
      "Epoch [19/30], Step [30/30], Loss: 0.2742, Acc: 0.8695\n",
      "Epoch [20/30], Step [10/30], Loss: 0.2694, Acc: 0.8711\n",
      "Epoch [20/30], Step [20/30], Loss: 0.2780, Acc: 0.8760\n",
      "Epoch [20/30], Step [30/30], Loss: 0.2969, Acc: 0.8783\n",
      "Epoch [21/30], Step [10/30], Loss: 0.3134, Acc: 0.8613\n",
      "Epoch [21/30], Step [20/30], Loss: 0.2990, Acc: 0.8564\n",
      "Epoch [21/30], Step [30/30], Loss: 0.2686, Acc: 0.8805\n",
      "Epoch [22/30], Step [10/30], Loss: 0.2962, Acc: 0.8682\n",
      "Epoch [22/30], Step [20/30], Loss: 0.2950, Acc: 0.8613\n",
      "Epoch [22/30], Step [30/30], Loss: 0.2937, Acc: 0.8650\n",
      "Epoch [23/30], Step [10/30], Loss: 0.2777, Acc: 0.8662\n",
      "Epoch [23/30], Step [20/30], Loss: 0.3000, Acc: 0.8643\n",
      "Epoch [23/30], Step [30/30], Loss: 0.2983, Acc: 0.8739\n",
      "Epoch [24/30], Step [10/30], Loss: 0.3243, Acc: 0.8457\n",
      "Epoch [24/30], Step [20/30], Loss: 0.3037, Acc: 0.8643\n",
      "Epoch [24/30], Step [30/30], Loss: 0.2897, Acc: 0.8695\n",
      "Epoch [25/30], Step [10/30], Loss: 0.2985, Acc: 0.8574\n",
      "Epoch [25/30], Step [20/30], Loss: 0.3024, Acc: 0.8662\n",
      "Epoch [25/30], Step [30/30], Loss: 0.2973, Acc: 0.8584\n",
      "Epoch [26/30], Step [10/30], Loss: 0.2824, Acc: 0.8838\n",
      "Epoch [26/30], Step [20/30], Loss: 0.2785, Acc: 0.8770\n",
      "Epoch [26/30], Step [30/30], Loss: 0.3044, Acc: 0.8496\n",
      "Epoch [27/30], Step [10/30], Loss: 0.3058, Acc: 0.8574\n",
      "Epoch [27/30], Step [20/30], Loss: 0.2933, Acc: 0.8682\n",
      "Epoch [27/30], Step [30/30], Loss: 0.3152, Acc: 0.8562\n",
      "Epoch [28/30], Step [10/30], Loss: 0.2807, Acc: 0.8643\n",
      "Epoch [28/30], Step [20/30], Loss: 0.3026, Acc: 0.8584\n",
      "Epoch [28/30], Step [30/30], Loss: 0.3076, Acc: 0.8540\n",
      "Epoch [29/30], Step [10/30], Loss: 0.2859, Acc: 0.8730\n",
      "Epoch [29/30], Step [20/30], Loss: 0.3180, Acc: 0.8486\n",
      "Epoch [29/30], Step [30/30], Loss: 0.2718, Acc: 0.8938\n",
      "Epoch [30/30], Step [10/30], Loss: 0.2898, Acc: 0.8672\n",
      "Epoch [30/30], Step [20/30], Loss: 0.2963, Acc: 0.8564\n",
      "Epoch [30/30], Step [30/30], Loss: 0.2897, Acc: 0.8827\n"
     ]
    }
   ],
   "source": [
    "# Some hyperparameters for training. \n",
    "num_epochs = 30\n",
    "batch_size = 1024\n",
    "learning_rate = 0.01\n",
    "\n",
    "criterion = nn.BCELoss() # Loss function.\n",
    "optimizer = torch.optim.Adam(model.parameters(), lr=learning_rate)  \n",
    "\n",
    "# Data for the training. \n",
    "train_loader = DataLoader(train_data, batch_size = batch_size, shuffle = True, num_workers = 2)\n",
    "\n",
    "# Train the model.\n",
    "n_total_steps = len(train_loader) # Total length of training data. \n",
    "train_losses = []\n",
    "train_accuracies = []\n",
    "\n",
    "# How can I get validation data in here as well?\n",
    "\n",
    "for epoch in range(num_epochs):\n",
    "    for i, (inputs, labels) in enumerate(train_loader):  \n",
    "        # Load the data on to the gpu.\n",
    "        inputs = inputs.to(device)\n",
    "        y_acc_metric = labels.reshape(-1).numpy() # Used to measure accuracy as a metric below. \n",
    "        labels = labels.view(labels.shape[0],1).to(device) \n",
    "        \n",
    "        # Forward pass.\n",
    "        outputs = model(inputs)\n",
    "        loss = criterion(outputs, labels)\n",
    "        \n",
    "        # Accuracy metric reporting. \n",
    "        accuracy = (outputs.reshape(-1).cpu().detach().numpy().round() == y_acc_metric).mean()\n",
    "        \n",
    "        # Backward and optimize.\n",
    "        optimizer.zero_grad()\n",
    "        loss.backward()\n",
    "        optimizer.step()\n",
    "        \n",
    "        \n",
    "        if (i+1) % 10 == 0:\n",
    "            train_losses.append(loss.item())\n",
    "            train_accuracies.append(accuracy)\n",
    "            print (f'Epoch [{epoch+1}/{num_epochs}], Step [{i+1}/{n_total_steps}], Loss: {loss.item():.4f}, Acc: {accuracy:.4f}')"
   ]
  },
  {
   "cell_type": "code",
   "execution_count": 244,
   "id": "b2959e3f",
   "metadata": {},
   "outputs": [
    {
     "data": {
      "image/png": "[encoded data removed]",
      "text/plain": [
       "<Figure size 432x288 with 1 Axes>"
      ]
     },
     "metadata": {
      "needs_background": "light"
     },
     "output_type": "display_data"
    },
    {
     "data": {
      "image/png": "[encoded data removed]",
      "text/plain": [
       "<Figure size 432x288 with 1 Axes>"
      ]
     },
     "metadata": {
      "needs_background": "light"
     },
     "output_type": "display_data"
    }
   ],
   "source": [
    "plt.plot(train_losses)\n",
    "plt.title(\"Training Loss per Epoch\")\n",
    "plt.xlabel(\"Epoch\")\n",
    "plt.ylabel(\"Loss\")\n",
    "plt.show()\n",
    "\n",
    "plt.plot(train_accuracies)\n",
    "plt.title(\"Training Accuracy per Epoch\")\n",
    "plt.xlabel(\"Epoch\")\n",
    "plt.ylabel(\"Accuracy\")\n",
    "plt.show()"
   ]
  },
  {
   "cell_type": "code",
   "execution_count": 245,
   "id": "de289048",
   "metadata": {},
   "outputs": [
    {
     "name": "stdout",
     "output_type": "stream",
     "text": [
      "Step [1/10], Acc: 0.8525\n",
      "Step [2/10], Acc: 0.8584\n",
      "Step [3/10], Acc: 0.8525\n",
      "Step [4/10], Acc: 0.8574\n",
      "Step [5/10], Acc: 0.8486\n",
      "Step [6/10], Acc: 0.8516\n",
      "Step [7/10], Acc: 0.8379\n",
      "Step [8/10], Acc: 0.8662\n",
      "Step [9/10], Acc: 0.8398\n",
      "Step [10/10], Acc: 0.8415\n",
      "Average test accuracy over all batches: 0.8507\n"
     ]
    }
   ],
   "source": [
    "# Test the model\n",
    "# In test phase, we don't need to compute gradients (for memory efficiency)\n",
    "test_data = CustomDataset(X_test, y_test, transform = ToTensor())\n",
    "test_loader = DataLoader(test_data, batch_size = batch_size, shuffle = False, num_workers = 2)\n",
    "\n",
    "test_steps = len(test_loader)\n",
    "test_accuracies = []\n",
    "with torch.no_grad():\n",
    "    n_correct = 0\n",
    "    n_samples = 0\n",
    "    for i, (inputs, labels) in enumerate(test_loader):\n",
    "        # Load the data on to the gpu.\n",
    "        inputs = inputs.to(device)\n",
    "        y_acc_metric = labels.reshape(-1).numpy() # Used to measure accuracy as a metric below. \n",
    "        \n",
    "        # Forward pass.\n",
    "        outputs = model(inputs)\n",
    "        #print(outputs)\n",
    "        \n",
    "        # Accuracy metric reporting. \n",
    "        accuracy = (outputs.reshape(-1).cpu().detach().numpy().round() == y_acc_metric).mean()\n",
    "        \n",
    "    \n",
    "        test_accuracies.append(accuracy)\n",
    "        print (f'Step [{i+1}/{test_steps}], Acc: {accuracy:.4f}')\n",
    "        \n",
    "print(f\"Average test accuracy over all batches: {sum(test_accuracies)/len(test_accuracies):.4f}\")"
   ]
  },
  {
   "cell_type": "code",
   "execution_count": 251,
   "id": "f5a94cf0",
   "metadata": {},
   "outputs": [
    {
     "name": "stdout",
     "output_type": "stream",
     "text": [
      "Unique predicted values: [2.1751780e-06 2.8760046e-06 3.2837161e-06 ... 8.9783770e-01 8.9790648e-01\n",
      " 8.9799106e-01]\n"
     ]
    },
    {
     "data": {
      "image/png": "[encoded data removed]",
      "text/plain": [
       "<Figure size 432x288 with 1 Axes>"
      ]
     },
     "metadata": {
      "needs_background": "light"
     },
     "output_type": "display_data"
    }
   ],
   "source": [
    "# Test on entire test data set at once.\n",
    "with torch.no_grad():\n",
    "    test_dat = torch.from_numpy(X_test.values.astype(np.float32)).to(device)\n",
    "    test_labs = torch.from_numpy(y_test.values.astype(np.float32))\n",
    "    test_labs = test_labs.view(test_labs.shape[0],1)\n",
    "    \n",
    "    predicted_probs = model(test_dat).cpu().numpy()\n",
    "    \n",
    "    plt.hist(predicted_probs.flatten())\n",
    "    plt.xlim(0,1)\n",
    "    print(f\"Unique predicted values: {np.unique(predicted_probs.flatten())}\")"
   ]
  },
  {
   "cell_type": "code",
   "execution_count": 247,
   "id": "c2bdb046",
   "metadata": {},
   "outputs": [
    {
     "data": {
      "image/png": "[encoded data removed]",
      "text/plain": [
       "<Figure size 432x288 with 2 Axes>"
      ]
     },
     "metadata": {
      "needs_background": "light"
     },
     "output_type": "display_data"
    },
    {
     "name": "stdout",
     "output_type": "stream",
     "text": [
      "Some more classifaction statistics:\n",
      "              precision    recall  f1-score   support\n",
      "\n",
      "           0       0.88      0.92      0.90      7552\n",
      "           1       0.73      0.64      0.68      2497\n",
      "\n",
      "    accuracy                           0.85     10049\n",
      "   macro avg       0.81      0.78      0.79     10049\n",
      "weighted avg       0.85      0.85      0.85     10049\n",
      "\n"
     ]
    }
   ],
   "source": [
    "# Confusion matrix.\n",
    "labs = list(y_test.values)\n",
    "preds = predicted_probs.flatten()\n",
    "predicted_classes = list(np.where(preds > 0.5, 1, 0))\n",
    "cm = metrics.confusion_matrix(labs, predicted_classes, labels = [0,1])\n",
    "conf_mat = metrics.ConfusionMatrixDisplay(confusion_matrix=cm)\n",
    "conf_mat.plot()\n",
    "plt.show()\n",
    "\n",
    "print(\"Some more classifaction statistics:\")\n",
    "print(metrics.classification_report(labs, predicted_classes, labels = [0,1]))"
   ]
  },
  {
   "cell_type": "code",
   "execution_count": 248,
   "id": "73d0fb2d",
   "metadata": {},
   "outputs": [
    {
     "data": {
      "image/png": "[encoded data removed]",
      "text/plain": [
       "<Figure size 432x288 with 1 Axes>"
      ]
     },
     "metadata": {
      "needs_background": "light"
     },
     "output_type": "display_data"
    }
   ],
   "source": [
    "# Make roc and auc below. \n",
    "fpr, tpr, thresholds = metrics.roc_curve(labs, predicted_probs.flatten())\n",
    "roc_auc = metrics.auc(fpr, tpr)\n",
    "display = metrics.RocCurveDisplay(fpr=fpr, tpr=tpr, roc_auc=roc_auc,\n",
    "                                   estimator_name='Simple Neural Net Classifier')\n",
    "display.plot()\n",
    "plt.show()"
   ]
  },
  {
   "cell_type": "code",
   "execution_count": 249,
   "id": "07c14f51",
   "metadata": {},
   "outputs": [],
   "source": [
    "# In case I want to save the trained model.\n",
    "PATH = './mymodel.pth'\n",
    "#torch.save(model.state_dict(), PATH)"
   ]
  },
  {
   "cell_type": "code",
   "execution_count": 250,
   "id": "7489b696",
   "metadata": {},
   "outputs": [],
   "source": [
    "# Load the weights and biases (with the same structure as the model used here).\n",
    "#model = NeuralNet(input_size).to(device)\n",
    "#model.load_state_dict(torch.load(PATH))"
   ]
  },
  {
   "cell_type": "markdown",
   "id": "7d296e75",
   "metadata": {},
   "source": [
    "# Perhaps we could follow [this](https://www.datacamp.com/tutorial/pytorch-tutorial-building-a-simple-neural-network-from-scratch) tutorial.\n",
    "\n",
    "Or [this](https://medium.com/analytics-vidhya/a-simple-neural-network-classifier-using-pytorch-from-scratch-7ebb477422d2) is even better I believe. And [this](https://medium.com/analytics-vidhya/pytorch-for-deep-learning-binary-classification-logistic-regression-382abd97fb43).\n"
   ]
  }
 ],
 "metadata": {
  "kernelspec": {
   "display_name": "Python 3 (ipykernel)",
   "language": "python",
   "name": "python3"
  },
  "language_info": {
   "codemirror_mode": {
    "name": "ipython",
    "version": 3
   },
   "file_extension": ".py",
   "mimetype": "text/x-python",
   "name": "python",
   "nbconvert_exporter": "python",
   "pygments_lexer": "ipython3",
   "version": "3.8.15"
  }
 },
 "nbformat": 4,
 "nbformat_minor": 5
}
