{
 "cells": [
  {
   "cell_type": "markdown",
   "id": "e6e292dc",
   "metadata": {},
   "source": [
    "# Make Box and Wisker Plots for CE Metrics in Experiment II"
   ]
  },
  {
   "cell_type": "code",
   "execution_count": 22,
   "id": "591e2540",
   "metadata": {},
   "outputs": [
    {
     "name": "stdout",
     "output_type": "stream",
     "text": [
      "['/home/ajo/gitRepos/master_thesis/plotting', '/home/ajo/gitRepos/master_thesis', '/home/ajo/gitRepos/master_thesis', '/home/ajo/gitRepos/master_thesis', '/home/ajo/gitRepos/master_thesis', '/home/ajo/gitRepos/master_thesis', '/home/ajo/gitRepos/master_thesis', '/home/ajo/anaconda3/envs/master/lib/python38.zip', '/home/ajo/anaconda3/envs/master/lib/python3.8', '/home/ajo/anaconda3/envs/master/lib/python3.8/lib-dynload', '', '/home/ajo/.local/lib/python3.8/site-packages', '/home/ajo/anaconda3/envs/master/lib/python3.8/site-packages']\n"
     ]
    }
   ],
   "source": [
    "import sys\n",
    "import os\n",
    "# Tricks for loading data and libraries from parent directories. \n",
    "parent = os.path.abspath(\"..\")\n",
    "sys.path.insert(1, parent)\n",
    "print(sys.path)\n",
    "\n",
    "import pandas as pd\n",
    "\n",
    "# Custom styles and sizing for matplotlib.\n",
    "import matplotlib.pyplot as plt\n",
    "plt.style.use(\"tex.mplstyle\")\n",
    "from plotting_utils import set_size\n",
    "\n"
   ]
  },
  {
   "cell_type": "code",
   "execution_count": 23,
   "id": "580c8ea8",
   "metadata": {},
   "outputs": [],
   "source": [
    "data_code = \"AD\"\n",
    "if data_code == \"AD\":\n",
    "    df = pd.read_csv(\"../counterfactuals/\"+data_code+\"_averages_over_seeds.csv\", index_col=0)\n",
    "    df = df.reset_index()\n",
    "    df2 = pd.DataFrame()\n",
    "    df2[\"L0\"] = df.groupby(\"index\")[\"L0\"].apply(list)\n",
    "    df2[\"Gower\"] = df.groupby(\"index\")[\"Gower\"].apply(list)\n",
    "    df3 = pd.DataFrame()\n",
    "    df3[\"seed\"] = [1234, 4500, 2018, 1999, 2023]\n",
    "    df3[\"L0_TabDiffJoint\"] = df2.loc[\"TabDDPMjoint\", \"L0\"]\n",
    "    df3[\"L0_TabDiffCond\"] = df2.loc[\"TabDDPM\", \"L0\"]\n",
    "    df3[\"L0_TVAE\"] = df2.loc[\"TVAE\", \"L0\"]\n",
    "    df3[\"L0_MCCE\"] = df2.loc[\"MCCE\", \"L0\"]\n",
    "    df3[\"G_TabDiffJoint\"] = df2.loc[\"TabDDPMjoint\", \"Gower\"]\n",
    "    df3[\"G_TabDiffCond\"] = df2.loc[\"TabDDPM\", \"Gower\"]\n",
    "    df3[\"G_TVAE\"] = df2.loc[\"TVAE\", \"Gower\"]\n",
    "    df3[\"G_MCCE\"] = df2.loc[\"MCCE\", \"Gower\"]\n",
    "    \n",
    "    columns_include_L0 = [\"L0_TabDiffJoint\", \"L0_TabDiffCond\", \"L0_TVAE\", \"L0_MCCE\"]\n",
    "    columns_include_Gower = [\"G_TabDiffJoint\", \"G_TabDiffCond\", \"G_TVAE\", \"G_MCCE\"]\n",
    "    ticklabels = [\"TabDiffJoint\", \"TabDiffCond\", \"TVAE\", \"MCCE\"]\n",
    "    \n",
    "    df = df3.copy()\n",
    "\n",
    "elif data_code == \"CH\":\n",
    "    df = pd.read_csv(\"../counterfactuals/\"+data_code+\"_averages_over_seeds.csv\", index_col=0)\n",
    "    df = df.reset_index()\n",
    "    df2 = pd.DataFrame()\n",
    "    df2[\"L0\"] = df.groupby(\"index\")[\"L0\"].apply(list)\n",
    "    df2[\"Gower\"] = df.groupby(\"index\")[\"Gower\"].apply(list)\n",
    "    df3 = pd.DataFrame()\n",
    "    df3[\"seed\"] = [1234, 4500, 2018, 1999, 2023]\n",
    "    df3[\"L0_TabDiffJoint\"] = df2.loc[\"TabDDPMjoint\", \"L0\"]\n",
    "    df3[\"L0_TabDiffCond\"] = df2.loc[\"TabDDPM\", \"L0\"]\n",
    "    df3[\"L0_TVAE\"] = df2.loc[\"TVAE\", \"L0\"]\n",
    "    df3[\"L0_MCCE\"] = df2.loc[\"MCCE\", \"L0\"]\n",
    "    df3[\"G_TabDiffJoint\"] = df2.loc[\"TabDDPMjoint\", \"Gower\"]\n",
    "    df3[\"G_TabDiffCond\"] = df2.loc[\"TabDDPM\", \"Gower\"]\n",
    "    df3[\"G_TVAE\"] = df2.loc[\"TVAE\", \"Gower\"]\n",
    "    df3[\"G_MCCE\"] = df2.loc[\"MCCE\", \"Gower\"]\n",
    "    \n",
    "    columns_include_L0 = [\"L0_TabDiffJoint\", \"L0_TabDiffCond\", \"L0_TVAE\", \"L0_MCCE\"]\n",
    "    columns_include_Gower = [\"G_TabDiffJoint\", \"G_TabDiffCond\", \"G_TVAE\", \"G_MCCE\"]\n",
    "    ticklabels = [\"TabDiffJoint\", \"TabDiffCond\", \"TVAE\", \"MCCE\"]\n",
    "    \n",
    "    df = df3.copy()\n",
    "\n",
    "elif data_code == \"DI\":\n",
    "    df = pd.read_csv(\"../counterfactuals/\"+data_code+\"_averages_over_seeds.csv\", index_col=0)\n",
    "    df = df.reset_index()\n",
    "    df2 = pd.DataFrame()\n",
    "    df2[\"L0\"] = df.groupby(\"index\")[\"L0\"].apply(list)\n",
    "    df2[\"Gower\"] = df.groupby(\"index\")[\"Gower\"].apply(list)\n",
    "    df3 = pd.DataFrame()\n",
    "    df3[\"seed\"] = [1234, 4500, 2018, 1999, 2023]\n",
    "    df3[\"L0_TabDiffJoint\"] = df2.loc[\"TabDDPMjoint\", \"L0\"]\n",
    "    df3[\"L0_TabDiffCond\"] = df2.loc[\"TabDDPM\", \"L0\"]\n",
    "    df3[\"L0_TVAE\"] = df2.loc[\"TVAE\", \"L0\"]\n",
    "    df3[\"L0_MCCE\"] = df2.loc[\"MCCE\", \"L0\"]\n",
    "    df3[\"G_TabDiffJoint\"] = df2.loc[\"TabDDPMjoint\", \"Gower\"]\n",
    "    df3[\"G_TabDiffCond\"] = df2.loc[\"TabDDPM\", \"Gower\"]\n",
    "    df3[\"G_TVAE\"] = df2.loc[\"TVAE\", \"Gower\"]\n",
    "    df3[\"G_MCCE\"] = df2.loc[\"MCCE\", \"Gower\"]\n",
    "    \n",
    "    columns_include_L0 = [\"L0_TabDiffJoint\", \"L0_TabDiffCond\", \"L0_TVAE\", \"L0_MCCE\"]\n",
    "    columns_include_Gower = [\"G_TabDiffJoint\", \"G_TabDiffCond\", \"G_TVAE\", \"G_MCCE\"]\n",
    "    ticklabels = [\"TabDiffJoint\", \"TabDiffCond\", \"TVAE\", \"MCCE\"]\n",
    "    \n",
    "    # We need to exclude the final seed, because there are 0 counterfactuals in this one.\n",
    "    df3 = df3.iloc[:-1, :]\n",
    "    df = df3.copy()\n",
    "    "
   ]
  },
  {
   "cell_type": "code",
   "execution_count": 24,
   "id": "52439f35",
   "metadata": {},
   "outputs": [
    {
     "data": {
      "image/png": "[encoded data removed]",
      "text/plain": [
       "<Figure size 425.197x525.572 with 2 Axes>"
      ]
     },
     "metadata": {
      "needs_background": "light"
     },
     "output_type": "display_data"
    }
   ],
   "source": [
    "# ALL at once\n",
    "import matplotlib as mpl\n",
    "# Change some of the parameters manually here, to make plots slightly more visible in master.\n",
    "mpl.rcParams[\"axes.titlesize\"] = 16\n",
    "mpl.rcParams[\"xtick.labelsize\"] = 12\n",
    "mpl.rcParams[\"ytick.labelsize\"] = 10\n",
    "fig, axes = plt.subplots(2,1, figsize = set_size(subplots = (2,1)))\n",
    "\n",
    "# We set \"whis\" to an unreasonably large value to force the whiskers to show the min and max values.\n",
    "axes[0].boxplot(df.loc[:,columns_include_L0], vert = True, whis = 100000)\n",
    "axes[0].xaxis.set_ticklabels(ticklabels)\n",
    "axes[0].title.set_text(\"Sparsity \"+r\"$\\downarrow$\")\n",
    "\n",
    "axes[1].boxplot(df.loc[:,columns_include_Gower], vert = True, whis = 100000)\n",
    "axes[1].xaxis.set_ticklabels(ticklabels)\n",
    "axes[1].title.set_text(\"Gower \"+r\"$\\downarrow$\")\n",
    "\n",
    "#plt.savefig(\"../plots/box_and_whisker_CE_metrics_\"+data_code+\".pdf\", format=\"pdf\", bbox_inches = \"tight\")"
   ]
  },
  {
   "cell_type": "code",
   "execution_count": 25,
   "id": "38a8ff31",
   "metadata": {},
   "outputs": [
    {
     "name": "stdout",
     "output_type": "stream",
     "text": [
      "   seed  L0_TabDiffJoint  L0_TabDiffCond  L0_TVAE  L0_MCCE  G_TabDiffJoint  \\\n",
      "0  1234              6.0             6.0      5.3      4.6        2.012564   \n",
      "1  4500              6.0             6.0      5.3      4.5        1.637061   \n",
      "2  2018              7.0             6.0      5.3      4.5        4.410789   \n",
      "3  1999              5.0             4.0      5.5      4.7        0.855448   \n",
      "\n",
      "   G_TabDiffCond    G_TVAE    G_MCCE  \n",
      "0       0.706228  1.014451  0.636943  \n",
      "1       0.859063  0.818019  0.533939  \n",
      "2       0.930756  0.957679  0.668655  \n",
      "3       0.610662  0.828409  0.610598  \n"
     ]
    }
   ],
   "source": [
    "print(df)"
   ]
  }
 ],
 "metadata": {
  "kernelspec": {
   "display_name": "Python 3 (ipykernel)",
   "language": "python",
   "name": "python3"
  },
  "language_info": {
   "codemirror_mode": {
    "name": "ipython",
    "version": 3
   },
   "file_extension": ".py",
   "mimetype": "text/x-python",
   "name": "python",
   "nbconvert_exporter": "python",
   "pygments_lexer": "ipython3",
   "version": "3.8.15"
  }
 },
 "nbformat": 4,
 "nbformat_minor": 5
}
