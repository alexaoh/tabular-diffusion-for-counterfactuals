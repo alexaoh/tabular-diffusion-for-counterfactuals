{
 "cells": [
  {
   "cell_type": "markdown",
   "id": "e6e292dc",
   "metadata": {},
   "source": [
    "# Make Box and Wisker Plots for ML Efficacy Metrics Display in Experiment I"
   ]
  },
  {
   "cell_type": "code",
   "execution_count": 52,
   "id": "591e2540",
   "metadata": {},
   "outputs": [
    {
     "name": "stdout",
     "output_type": "stream",
     "text": [
      "['/home/ajo/gitRepos/master_thesis/plotting', '/home/ajo/gitRepos/master_thesis', '/home/ajo/gitRepos/master_thesis', '/home/ajo/gitRepos/master_thesis', '/home/ajo/gitRepos/master_thesis', '/home/ajo/anaconda3/envs/master/lib/python38.zip', '/home/ajo/anaconda3/envs/master/lib/python3.8', '/home/ajo/anaconda3/envs/master/lib/python3.8/lib-dynload', '', '/home/ajo/.local/lib/python3.8/site-packages', '/home/ajo/anaconda3/envs/master/lib/python3.8/site-packages']\n"
     ]
    }
   ],
   "source": [
    "import sys\n",
    "import os\n",
    "# Tricks for loading data and libraries from parent directories. \n",
    "parent = os.path.abspath(\"..\")\n",
    "sys.path.insert(1, parent)\n",
    "print(sys.path)\n",
    "\n",
    "import pandas as pd\n",
    "\n",
    "# Custom styles and sizing for matplotlib.\n",
    "import matplotlib.pyplot as plt\n",
    "plt.style.use(\"tex.mplstyle\")\n",
    "from plotting_utils import set_size\n",
    "\n"
   ]
  },
  {
   "cell_type": "code",
   "execution_count": 78,
   "id": "580c8ea8",
   "metadata": {},
   "outputs": [
    {
     "data": {
      "text/plain": [
       "Index(['seed', 'F1_real', 'F1_tabddpm', 'F1_tabddpm_joint', 'F1_mcce',\n",
       "       'F1_tvae', 'AUC_real', 'AUC_tabddpm', 'AUC_tabddpm_joint', 'AUC_mcce',\n",
       "       'AUC_tvae', 'acc_real', 'acc_tabddpm', 'acc_tabddpm_joint', 'acc_mcce',\n",
       "       'acc_tvae'],\n",
       "      dtype='object')"
      ]
     },
     "execution_count": 78,
     "metadata": {},
     "output_type": "execute_result"
    }
   ],
   "source": [
    "data_code = \"CH\"\n",
    "if data_code == \"AD\":\n",
    "    df = pd.read_csv(\"../ML_efficacy_catBoost_AD.csv\") \n",
    "    columns_include_F1 = [\"F1_real\", \"F1_tabddpm_joint\" ,\"F1_tabddpm\", \"F1_tvae\", \"F1_mcce\"]\n",
    "    columns_include_AUC = [\"AUC_real\", \"AUC_tabddpm_joint\" ,\"AUC_tabddpm\", \"AUC_tvae\", \"AUC_mcce\"]\n",
    "    columns_include_acc = [\"acc_real\", \"acc_tabddpm_joint\" ,\"acc_tabddpm\", \"acc_tvae\", \"acc_mcce\"]\n",
    "    ticklabels = [r\"\\textit{Real}\", \"TabDiffJoint\", \"TabDiffCond\", \"TVAE\", \"MCCE\"]\n",
    "    ticklables_AUC = ticklables\n",
    "elif data_code == \"CH\":\n",
    "    df = pd.read_csv(\"../ML_efficacy_catBoost_CH.csv\") \n",
    "    columns_include_F1 = [\"F1_real\", \"F1_tabddpm_joint\", \"F1_tvae\", \"F1_mcce\"] # Don't inlude Conditional modelling.\n",
    "    columns_include_AUC = [\"AUC_real\", \"AUC_tabddpm_joint\", \"AUC_tabddpm\", \"AUC_tvae\", \"AUC_mcce\"]\n",
    "    columns_include_acc = [\"acc_real\", \"acc_tabddpm_joint\", \"acc_tvae\", \"acc_mcce\"]# Don't inlude Conditional modelling.\n",
    "    ticklabels = [r\"\\textit{Real}\", \"TabDiffJoint\", \"TVAE\", \"MCCE\"]\n",
    "    ticklables_AUC = [r\"\\textit{Real}\", \"TabDiffJoint\", \"TabDiffCond\", \"TVAE\", \"MCCE\"]\n",
    "elif data_code == \"DI\":\n",
    "    df = pd.read_csv(\"../ML_efficacy_catBoost_DI.csv\")\n",
    "    columns_include_F1 = [\"F1_real\", \"F1_tabddpm_joint\" ,\"F1_tabddpm\", \"F1_tvae\", \"F1_mcce\"]\n",
    "    columns_include_AUC = [\"AUC_real\", \"AUC_tabddpm_joint\" ,\"AUC_tabddpm\", \"AUC_tvae\", \"AUC_mcce\"]\n",
    "    columns_include_acc = [\"acc_real\", \"acc_tabddpm_joint\" ,\"acc_tabddpm\", \"acc_tvae\", \"acc_mcce\"]\n",
    "    ticklabels = [r\"\\textit{Real}\", \"TabDiffJoint\", \"TabDiffCond\", \"TVAE\", \"MCCE\"]\n",
    "    ticklables_AUC = ticklables\n",
    "df.columns"
   ]
  },
  {
   "cell_type": "code",
   "execution_count": 56,
   "id": "76065dee",
   "metadata": {},
   "outputs": [
    {
     "data": {
      "image/png": "[encoded data removed]",
      "text/plain": [
       "<Figure size 425.197x262.786 with 1 Axes>"
      ]
     },
     "metadata": {
      "needs_background": "light"
     },
     "output_type": "display_data"
    }
   ],
   "source": [
    "# Make boxplot for F1\n",
    "fig, axes = plt.subplots(1,1, figsize = set_size(subplots = (1,1)))\n",
    "axes.boxplot(df.iloc[:,1:6], vert = True)\n",
    "#axes.set_ylim([0,1])\n",
    "axes.xaxis.set_ticklabels([\"Real\", \"TabDiffCond\", \"TabDiffJoint\", \"MCCE\", \"TVAE\"])\n",
    "axes.title.set_text(\"F1\")\n",
    "plt.show()"
   ]
  },
  {
   "cell_type": "code",
   "execution_count": 42,
   "id": "4d77fa66",
   "metadata": {},
   "outputs": [
    {
     "data": {
      "image/png": "[encoded data removed]",
      "text/plain": [
       "<Figure size 425.197x262.786 with 1 Axes>"
      ]
     },
     "metadata": {
      "needs_background": "light"
     },
     "output_type": "display_data"
    }
   ],
   "source": [
    "# Make boxplot for AUC\n",
    "fig, axes = plt.subplots(1,1, figsize = set_size(subplots = (1,1)))\n",
    "axes.boxplot(df.iloc[:,6:11], vert = True, whis = 1000)\n",
    "axes.xaxis.set_ticklabels([\"Real\", \"TabDiffCond\", \"TabDiffJoint\", \"MCCE\", \"TVAE\"])\n",
    "axes.title.set_text(\"AUC\")\n",
    "plt.show()"
   ]
  },
  {
   "cell_type": "code",
   "execution_count": 43,
   "id": "041b0b8d",
   "metadata": {},
   "outputs": [
    {
     "data": {
      "image/png": "[encoded data removed]",
      "text/plain": [
       "<Figure size 425.197x262.786 with 1 Axes>"
      ]
     },
     "metadata": {
      "needs_background": "light"
     },
     "output_type": "display_data"
    }
   ],
   "source": [
    "# Make boxplot for Accuracy\n",
    "fig, axes = plt.subplots(1,1, figsize = set_size(subplots = (1,1)))\n",
    "axes.boxplot(df.iloc[:,11:], vert = True, whis = 100000)\n",
    "axes.xaxis.set_ticklabels([\"Real\", \"TabDiffCond\", \"TabDiffJoint\", \"MCCE\", \"TVAE\"])\n",
    "axes.title.set_text(\"Accuracy\")\n",
    "plt.show()"
   ]
  },
  {
   "cell_type": "code",
   "execution_count": 80,
   "id": "52439f35",
   "metadata": {},
   "outputs": [
    {
     "data": {
      "image/png": "[encoded data removed]",
      "text/plain": [
       "<Figure size 425.197x788.358 with 3 Axes>"
      ]
     },
     "metadata": {
      "needs_background": "light"
     },
     "output_type": "display_data"
    }
   ],
   "source": [
    "# ALL at once\n",
    "fig, axes = plt.subplots(3,1, figsize = set_size(subplots = (3,1)))\n",
    "\n",
    "# We set \"whis\" to an unreasonably large value to force the whiskers to show the min and max values.\n",
    "axes[0].boxplot(df.loc[:,columns_include_F1], vert = True, whis = 100000)\n",
    "axes[0].xaxis.set_ticklabels(ticklabels)\n",
    "axes[0].title.set_text(r\"$F_1$\")\n",
    "\n",
    "axes[1].boxplot(df.loc[:,columns_include_AUC], vert = True, whis = 100000)\n",
    "axes[1].xaxis.set_ticklabels(ticklables_AUC)\n",
    "axes[1].title.set_text(\"AUC\")\n",
    "\n",
    "axes[2].boxplot(df.loc[:, columns_include_acc], vert = True, whis = 100000000)\n",
    "axes[2].xaxis.set_ticklabels(ticklabels)\n",
    "axes[2].title.set_text(\"Accuracy\")\n",
    "plt.savefig(\"../plots/box_and_whisker_ML_efficacy_\"+data_code+\".pdf\", format=\"pdf\", bbox_inches = \"tight\")"
   ]
  },
  {
   "cell_type": "code",
   "execution_count": 81,
   "id": "38a8ff31",
   "metadata": {},
   "outputs": [
    {
     "name": "stdout",
     "output_type": "stream",
     "text": [
      "   seed   F1_real  F1_tabddpm  F1_tabddpm_joint   F1_mcce   F1_tvae  AUC_real  \\\n",
      "0  1234  0.920653    0.000000          0.902305  0.905793  0.907085  0.862968   \n",
      "1  4500  0.918856    0.002430          0.901503  0.912178  0.902123  0.863802   \n",
      "2  2018  0.917976    0.004854          0.894065  0.911748  0.903607  0.863597   \n",
      "3  1999  0.919674    0.000000          0.902305  0.912507  0.907801  0.863590   \n",
      "4  2023  0.922449    0.000000          0.902801  0.916129  0.917769  0.862421   \n",
      "\n",
      "   AUC_tabddpm  AUC_tabddpm_joint  AUC_mcce  AUC_tvae  acc_real  acc_tabddpm  \\\n",
      "0     0.719990           0.706143  0.827346  0.789449     0.864        0.178   \n",
      "1     0.720748           0.718814  0.823218  0.802742     0.861        0.179   \n",
      "2     0.722088           0.745284  0.827702  0.797015     0.859        0.180   \n",
      "3     0.718964           0.718035  0.832588  0.819261     0.862        0.178   \n",
      "4     0.717577           0.792620  0.836204  0.806159     0.867        0.178   \n",
      "\n",
      "   acc_tabddpm_joint  acc_mcce  acc_tvae  \n",
      "0              0.822     0.839     0.840  \n",
      "1              0.823     0.850     0.834  \n",
      "2              0.809     0.849     0.837  \n",
      "3              0.822     0.851     0.844  \n",
      "4              0.823     0.857     0.857  \n"
     ]
    }
   ],
   "source": [
    "print(df)"
   ]
  }
 ],
 "metadata": {
  "kernelspec": {
   "display_name": "Python 3 (ipykernel)",
   "language": "python",
   "name": "python3"
  },
  "language_info": {
   "codemirror_mode": {
    "name": "ipython",
    "version": 3
   },
   "file_extension": ".py",
   "mimetype": "text/x-python",
   "name": "python",
   "nbconvert_exporter": "python",
   "pygments_lexer": "ipython3",
   "version": "3.8.15"
  }
 },
 "nbformat": 4,
 "nbformat_minor": 5
}
