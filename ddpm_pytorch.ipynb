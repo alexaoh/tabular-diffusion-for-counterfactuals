{
 "cells": [
  {
   "cell_type": "markdown",
   "id": "9a2aba75",
   "metadata": {},
   "source": [
    "# DDPM with Pytorch for Adult.\n",
    "\n",
    "This is our first attempt at implementing a DDGM using Python and Pytorch. Our basis is the code from [here](https://github.com/jmtomczak/intro_dgm/blob/main/ddgms/ddgm_example.ipynb)."
   ]
  },
  {
   "cell_type": "code",
   "execution_count": 2,
   "id": "862a199f",
   "metadata": {},
   "outputs": [
    {
     "name": "stdout",
     "output_type": "stream",
     "text": [
      "Using 'cuda' device.\n",
      "The working directory is /home/ajo/gitRepos/master_thesis\n"
     ]
    }
   ],
   "source": [
    "import pandas as pd\n",
    "import numpy as np\n",
    "import matplotlib.pyplot as plt\n",
    "from sklearn import metrics # plot_roc_curve.\n",
    "from sklearn.model_selection import train_test_split # Train/test/validation split of data.\n",
    "import sklearn.preprocessing as preprocessing\n",
    "import random \n",
    "\n",
    "# Pytorch imports\n",
    "import torch\n",
    "import torch.nn as nn\n",
    "from torch.utils.data import Dataset, DataLoader \n",
    "\n",
    "# Configure the device \n",
    "device = torch.device('cuda' if torch.cuda.is_available() else 'cpu')\n",
    "print(f\"Using '{device}' device.\")\n",
    "\n",
    "# Print working directory (for control)\n",
    "import os\n",
    "print(f\"The working directory is {os.getcwd()}\")\n",
    "\n",
    "# Set seeds for reproducibility. \n",
    "seed = 1234\n",
    "torch.manual_seed(seed)\n",
    "torch.cuda.manual_seed(seed)\n",
    "np.random.seed(seed)\n",
    "random.seed(seed)"
   ]
  },
  {
   "cell_type": "code",
   "execution_count": null,
   "id": "3a19f807",
   "metadata": {},
   "outputs": [],
   "source": [
    "# Load Adult data. "
   ]
  },
  {
   "cell_type": "code",
   "execution_count": 3,
   "id": "389a2160",
   "metadata": {},
   "outputs": [],
   "source": [
    "class DDPM(nn.Module):\n",
    "    def __init__(self, p_dnns, decoder_net, beta, T, D):\n",
    "        super(DDPM, self).__init__()\n",
    "        self.p_dnns = p_dnns\n",
    "        self.decoder_net = decoder_net # The decoder net is defined outside.\n",
    "        # I would prefer to define it here later. \n",
    "        \n",
    "        self.D = D\n",
    "        self.T = T\n",
    "        self.beta = torch.FloatTensor([beta]) # Betas for forward process (\"encoding\").\n",
    "        \n",
    "    @staticmethod\n",
    "    def reparameterization(mu, log_var):\n",
    "        std = torch.exp(0.5*log_var)\n",
    "        eps = torch.randn_like(std)\n",
    "        return mu + std * eps\n",
    "    \n",
    "    def reparameterization_gaussian_diffusion(self, x, i):\n",
    "        return torch.sqrt(1.0 - self.beta)*x + torch.sqrt(self.beta)*torch.randn_like(x)\n",
    "    \n",
    "    def forward(self, x, reduction = \"avg\"):\n",
    "        \"\"\"Forward process in the neural net.\"\"\"\n",
    "        \n",
    "        ######## Forward diffusion process.\n",
    "        zs = [self.reparameterization_gaussian_diffusion(x, 0)]\n",
    "\n",
    "        for i in range(1, self.T):\n",
    "            zs.append(self.reparameterization_gaussian_diffusion(zs[-1], i))\n",
    "            \n",
    "        ######## Backward diffusion process.\n",
    "        \n",
    "        \n",
    "        \n",
    "        \n",
    "        ######## ELBO.\n",
    "        pass\n",
    "    \n",
    "    def sample(self, batch_size = 64):\n",
    "        pass\n",
    "    \n",
    "    \n",
    "    def sample_diffusion(self, x):\n",
    "        pass"
   ]
  },
  {
   "cell_type": "code",
   "execution_count": null,
   "id": "2ae3e5de",
   "metadata": {},
   "outputs": [],
   "source": []
  },
  {
   "cell_type": "code",
   "execution_count": null,
   "id": "bfe7359a",
   "metadata": {},
   "outputs": [],
   "source": []
  }
 ],
 "metadata": {
  "kernelspec": {
   "display_name": "Python 3 (ipykernel)",
   "language": "python",
   "name": "python3"
  },
  "language_info": {
   "codemirror_mode": {
    "name": "ipython",
    "version": 3
   },
   "file_extension": ".py",
   "mimetype": "text/x-python",
   "name": "python",
   "nbconvert_exporter": "python",
   "pygments_lexer": "ipython3",
   "version": "3.8.15"
  }
 },
 "nbformat": 4,
 "nbformat_minor": 5
}
